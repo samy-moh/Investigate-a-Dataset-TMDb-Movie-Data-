{
 "cells": [
  {
   "cell_type": "markdown",
   "metadata": {},
   "source": [
    "\n",
    "\n",
    "# Project: Investigate a Dataset (TMDb Movie Data)\n",
    "\n",
    "## Table of Contents\n",
    "<ul>\n",
    "<li><a href=\"#intro\">Introduction</a></li>\n",
    "<li><a href=\"#wrangling\">Data Wrangling</a></li>\n",
    "<li><a href=\"#eda\">Exploratory Data Analysis</a></li>\n",
    "<li><a href=\"#conclusions\">Conclusions</a></li>\n",
    "</ul>"
   ]
  },
  {
   "cell_type": "markdown",
   "metadata": {},
   "source": [
    "<a id='intro'></a>\n",
    "## Introduction\n",
    "\n",
    "> Investigating the TMDb Movie Data (cleaned from original data on Kaggle). The Data will go through a wrangling process that will lead to a cleaned data set that will be analyzed to answer some questions that I wonder.\n",
    "\n",
    "> First, what are the characteristics of top high rated movies? \n",
    "\n",
    "> Second , what genres that audience prefer the most?"
   ]
  },
  {
   "cell_type": "code",
   "execution_count": 1,
   "metadata": {
    "collapsed": true
   },
   "outputs": [],
   "source": [
    "import pandas as pd\n",
    "import numpy as np\n",
    "import seaborn as sns\n",
    "sns.set_style('darkgrid')\n",
    "import matplotlib.pyplot as plt\n",
    "%matplotlib inline"
   ]
  },
  {
   "cell_type": "markdown",
   "metadata": {},
   "source": [
    "<a id='wrangling'></a>\n",
    "## Data Wrangling\n",
    "\n",
    "Which will contain :\n",
    "\n",
    "> First , loading data from the CSV file that cleaned on Kaggle.\n",
    "\n",
    "> Second, Assessing the data and find both tidiness and quailty issues.\n",
    "\n",
    "> Third, Cleaining the data set and store it in a new CSV file.\n",
    "\n",
    "### General Properties"
   ]
  },
  {
   "cell_type": "code",
   "execution_count": 2,
   "metadata": {
    "collapsed": false
   },
   "outputs": [
    {
     "data": {
      "text/html": [
       "<div>\n",
       "<style scoped>\n",
       "    .dataframe tbody tr th:only-of-type {\n",
       "        vertical-align: middle;\n",
       "    }\n",
       "\n",
       "    .dataframe tbody tr th {\n",
       "        vertical-align: top;\n",
       "    }\n",
       "\n",
       "    .dataframe thead th {\n",
       "        text-align: right;\n",
       "    }\n",
       "</style>\n",
       "<table border=\"1\" class=\"dataframe\">\n",
       "  <thead>\n",
       "    <tr style=\"text-align: right;\">\n",
       "      <th></th>\n",
       "      <th>id</th>\n",
       "      <th>imdb_id</th>\n",
       "      <th>popularity</th>\n",
       "      <th>budget</th>\n",
       "      <th>revenue</th>\n",
       "      <th>original_title</th>\n",
       "      <th>cast</th>\n",
       "      <th>homepage</th>\n",
       "      <th>director</th>\n",
       "      <th>tagline</th>\n",
       "      <th>...</th>\n",
       "      <th>overview</th>\n",
       "      <th>runtime</th>\n",
       "      <th>genres</th>\n",
       "      <th>production_companies</th>\n",
       "      <th>release_date</th>\n",
       "      <th>vote_count</th>\n",
       "      <th>vote_average</th>\n",
       "      <th>release_year</th>\n",
       "      <th>budget_adj</th>\n",
       "      <th>revenue_adj</th>\n",
       "    </tr>\n",
       "  </thead>\n",
       "  <tbody>\n",
       "    <tr>\n",
       "      <th>0</th>\n",
       "      <td>135397</td>\n",
       "      <td>tt0369610</td>\n",
       "      <td>32.985763</td>\n",
       "      <td>150000000</td>\n",
       "      <td>1513528810</td>\n",
       "      <td>Jurassic World</td>\n",
       "      <td>Chris Pratt|Bryce Dallas Howard|Irrfan Khan|Vi...</td>\n",
       "      <td>http://www.jurassicworld.com/</td>\n",
       "      <td>Colin Trevorrow</td>\n",
       "      <td>The park is open.</td>\n",
       "      <td>...</td>\n",
       "      <td>Twenty-two years after the events of Jurassic ...</td>\n",
       "      <td>124</td>\n",
       "      <td>Action|Adventure|Science Fiction|Thriller</td>\n",
       "      <td>Universal Studios|Amblin Entertainment|Legenda...</td>\n",
       "      <td>6/9/15</td>\n",
       "      <td>5562</td>\n",
       "      <td>6.5</td>\n",
       "      <td>2015</td>\n",
       "      <td>1.379999e+08</td>\n",
       "      <td>1.392446e+09</td>\n",
       "    </tr>\n",
       "    <tr>\n",
       "      <th>1</th>\n",
       "      <td>76341</td>\n",
       "      <td>tt1392190</td>\n",
       "      <td>28.419936</td>\n",
       "      <td>150000000</td>\n",
       "      <td>378436354</td>\n",
       "      <td>Mad Max: Fury Road</td>\n",
       "      <td>Tom Hardy|Charlize Theron|Hugh Keays-Byrne|Nic...</td>\n",
       "      <td>http://www.madmaxmovie.com/</td>\n",
       "      <td>George Miller</td>\n",
       "      <td>What a Lovely Day.</td>\n",
       "      <td>...</td>\n",
       "      <td>An apocalyptic story set in the furthest reach...</td>\n",
       "      <td>120</td>\n",
       "      <td>Action|Adventure|Science Fiction|Thriller</td>\n",
       "      <td>Village Roadshow Pictures|Kennedy Miller Produ...</td>\n",
       "      <td>5/13/15</td>\n",
       "      <td>6185</td>\n",
       "      <td>7.1</td>\n",
       "      <td>2015</td>\n",
       "      <td>1.379999e+08</td>\n",
       "      <td>3.481613e+08</td>\n",
       "    </tr>\n",
       "    <tr>\n",
       "      <th>2</th>\n",
       "      <td>262500</td>\n",
       "      <td>tt2908446</td>\n",
       "      <td>13.112507</td>\n",
       "      <td>110000000</td>\n",
       "      <td>295238201</td>\n",
       "      <td>Insurgent</td>\n",
       "      <td>Shailene Woodley|Theo James|Kate Winslet|Ansel...</td>\n",
       "      <td>http://www.thedivergentseries.movie/#insurgent</td>\n",
       "      <td>Robert Schwentke</td>\n",
       "      <td>One Choice Can Destroy You</td>\n",
       "      <td>...</td>\n",
       "      <td>Beatrice Prior must confront her inner demons ...</td>\n",
       "      <td>119</td>\n",
       "      <td>Adventure|Science Fiction|Thriller</td>\n",
       "      <td>Summit Entertainment|Mandeville Films|Red Wago...</td>\n",
       "      <td>3/18/15</td>\n",
       "      <td>2480</td>\n",
       "      <td>6.3</td>\n",
       "      <td>2015</td>\n",
       "      <td>1.012000e+08</td>\n",
       "      <td>2.716190e+08</td>\n",
       "    </tr>\n",
       "  </tbody>\n",
       "</table>\n",
       "<p>3 rows × 21 columns</p>\n",
       "</div>"
      ],
      "text/plain": [
       "       id    imdb_id  popularity     budget     revenue      original_title  \\\n",
       "0  135397  tt0369610   32.985763  150000000  1513528810      Jurassic World   \n",
       "1   76341  tt1392190   28.419936  150000000   378436354  Mad Max: Fury Road   \n",
       "2  262500  tt2908446   13.112507  110000000   295238201           Insurgent   \n",
       "\n",
       "                                                cast  \\\n",
       "0  Chris Pratt|Bryce Dallas Howard|Irrfan Khan|Vi...   \n",
       "1  Tom Hardy|Charlize Theron|Hugh Keays-Byrne|Nic...   \n",
       "2  Shailene Woodley|Theo James|Kate Winslet|Ansel...   \n",
       "\n",
       "                                         homepage          director  \\\n",
       "0                   http://www.jurassicworld.com/   Colin Trevorrow   \n",
       "1                     http://www.madmaxmovie.com/     George Miller   \n",
       "2  http://www.thedivergentseries.movie/#insurgent  Robert Schwentke   \n",
       "\n",
       "                      tagline      ...       \\\n",
       "0           The park is open.      ...        \n",
       "1          What a Lovely Day.      ...        \n",
       "2  One Choice Can Destroy You      ...        \n",
       "\n",
       "                                            overview runtime  \\\n",
       "0  Twenty-two years after the events of Jurassic ...     124   \n",
       "1  An apocalyptic story set in the furthest reach...     120   \n",
       "2  Beatrice Prior must confront her inner demons ...     119   \n",
       "\n",
       "                                      genres  \\\n",
       "0  Action|Adventure|Science Fiction|Thriller   \n",
       "1  Action|Adventure|Science Fiction|Thriller   \n",
       "2         Adventure|Science Fiction|Thriller   \n",
       "\n",
       "                                production_companies release_date vote_count  \\\n",
       "0  Universal Studios|Amblin Entertainment|Legenda...       6/9/15       5562   \n",
       "1  Village Roadshow Pictures|Kennedy Miller Produ...      5/13/15       6185   \n",
       "2  Summit Entertainment|Mandeville Films|Red Wago...      3/18/15       2480   \n",
       "\n",
       "   vote_average  release_year    budget_adj   revenue_adj  \n",
       "0           6.5          2015  1.379999e+08  1.392446e+09  \n",
       "1           7.1          2015  1.379999e+08  3.481613e+08  \n",
       "2           6.3          2015  1.012000e+08  2.716190e+08  \n",
       "\n",
       "[3 rows x 21 columns]"
      ]
     },
     "execution_count": 2,
     "metadata": {},
     "output_type": "execute_result"
    }
   ],
   "source": [
    "# Load your data and print out a few lines. Perform operations to inspect data\n",
    "#   types and look for instances of missing or possibly errant data.\n",
    "df = pd.read_csv(\"tmdb-movies.csv\")\n",
    "\n",
    "df.head(3)\n"
   ]
  },
  {
   "cell_type": "code",
   "execution_count": 3,
   "metadata": {
    "collapsed": false
   },
   "outputs": [
    {
     "data": {
      "text/html": [
       "<div>\n",
       "<style scoped>\n",
       "    .dataframe tbody tr th:only-of-type {\n",
       "        vertical-align: middle;\n",
       "    }\n",
       "\n",
       "    .dataframe tbody tr th {\n",
       "        vertical-align: top;\n",
       "    }\n",
       "\n",
       "    .dataframe thead th {\n",
       "        text-align: right;\n",
       "    }\n",
       "</style>\n",
       "<table border=\"1\" class=\"dataframe\">\n",
       "  <thead>\n",
       "    <tr style=\"text-align: right;\">\n",
       "      <th></th>\n",
       "      <th>id</th>\n",
       "      <th>imdb_id</th>\n",
       "      <th>popularity</th>\n",
       "      <th>budget</th>\n",
       "      <th>revenue</th>\n",
       "      <th>original_title</th>\n",
       "      <th>cast</th>\n",
       "      <th>homepage</th>\n",
       "      <th>director</th>\n",
       "      <th>tagline</th>\n",
       "      <th>...</th>\n",
       "      <th>overview</th>\n",
       "      <th>runtime</th>\n",
       "      <th>genres</th>\n",
       "      <th>production_companies</th>\n",
       "      <th>release_date</th>\n",
       "      <th>vote_count</th>\n",
       "      <th>vote_average</th>\n",
       "      <th>release_year</th>\n",
       "      <th>budget_adj</th>\n",
       "      <th>revenue_adj</th>\n",
       "    </tr>\n",
       "  </thead>\n",
       "  <tbody>\n",
       "    <tr>\n",
       "      <th>10863</th>\n",
       "      <td>39768</td>\n",
       "      <td>tt0060161</td>\n",
       "      <td>0.065141</td>\n",
       "      <td>0</td>\n",
       "      <td>0</td>\n",
       "      <td>Beregis Avtomobilya</td>\n",
       "      <td>Innokentiy Smoktunovskiy|Oleg Efremov|Georgi Z...</td>\n",
       "      <td>NaN</td>\n",
       "      <td>Eldar Ryazanov</td>\n",
       "      <td>NaN</td>\n",
       "      <td>...</td>\n",
       "      <td>An insurance agent who moonlights as a carthie...</td>\n",
       "      <td>94</td>\n",
       "      <td>Mystery|Comedy</td>\n",
       "      <td>Mosfilm</td>\n",
       "      <td>1/1/66</td>\n",
       "      <td>11</td>\n",
       "      <td>6.5</td>\n",
       "      <td>1966</td>\n",
       "      <td>0.000000</td>\n",
       "      <td>0.0</td>\n",
       "    </tr>\n",
       "    <tr>\n",
       "      <th>10864</th>\n",
       "      <td>21449</td>\n",
       "      <td>tt0061177</td>\n",
       "      <td>0.064317</td>\n",
       "      <td>0</td>\n",
       "      <td>0</td>\n",
       "      <td>What's Up, Tiger Lily?</td>\n",
       "      <td>Tatsuya Mihashi|Akiko Wakabayashi|Mie Hama|Joh...</td>\n",
       "      <td>NaN</td>\n",
       "      <td>Woody Allen</td>\n",
       "      <td>WOODY ALLEN STRIKES BACK!</td>\n",
       "      <td>...</td>\n",
       "      <td>In comic Woody Allen's film debut, he took the...</td>\n",
       "      <td>80</td>\n",
       "      <td>Action|Comedy</td>\n",
       "      <td>Benedict Pictures Corp.</td>\n",
       "      <td>11/2/66</td>\n",
       "      <td>22</td>\n",
       "      <td>5.4</td>\n",
       "      <td>1966</td>\n",
       "      <td>0.000000</td>\n",
       "      <td>0.0</td>\n",
       "    </tr>\n",
       "    <tr>\n",
       "      <th>10865</th>\n",
       "      <td>22293</td>\n",
       "      <td>tt0060666</td>\n",
       "      <td>0.035919</td>\n",
       "      <td>19000</td>\n",
       "      <td>0</td>\n",
       "      <td>Manos: The Hands of Fate</td>\n",
       "      <td>Harold P. Warren|Tom Neyman|John Reynolds|Dian...</td>\n",
       "      <td>NaN</td>\n",
       "      <td>Harold P. Warren</td>\n",
       "      <td>It's Shocking! It's Beyond Your Imagination!</td>\n",
       "      <td>...</td>\n",
       "      <td>A family gets lost on the road and stumbles up...</td>\n",
       "      <td>74</td>\n",
       "      <td>Horror</td>\n",
       "      <td>Norm-Iris</td>\n",
       "      <td>11/15/66</td>\n",
       "      <td>15</td>\n",
       "      <td>1.5</td>\n",
       "      <td>1966</td>\n",
       "      <td>127642.279154</td>\n",
       "      <td>0.0</td>\n",
       "    </tr>\n",
       "  </tbody>\n",
       "</table>\n",
       "<p>3 rows × 21 columns</p>\n",
       "</div>"
      ],
      "text/plain": [
       "          id    imdb_id  popularity  budget  revenue  \\\n",
       "10863  39768  tt0060161    0.065141       0        0   \n",
       "10864  21449  tt0061177    0.064317       0        0   \n",
       "10865  22293  tt0060666    0.035919   19000        0   \n",
       "\n",
       "                 original_title  \\\n",
       "10863       Beregis Avtomobilya   \n",
       "10864    What's Up, Tiger Lily?   \n",
       "10865  Manos: The Hands of Fate   \n",
       "\n",
       "                                                    cast homepage  \\\n",
       "10863  Innokentiy Smoktunovskiy|Oleg Efremov|Georgi Z...      NaN   \n",
       "10864  Tatsuya Mihashi|Akiko Wakabayashi|Mie Hama|Joh...      NaN   \n",
       "10865  Harold P. Warren|Tom Neyman|John Reynolds|Dian...      NaN   \n",
       "\n",
       "               director                                       tagline  \\\n",
       "10863    Eldar Ryazanov                                           NaN   \n",
       "10864       Woody Allen                     WOODY ALLEN STRIKES BACK!   \n",
       "10865  Harold P. Warren  It's Shocking! It's Beyond Your Imagination!   \n",
       "\n",
       "          ...                                                overview runtime  \\\n",
       "10863     ...       An insurance agent who moonlights as a carthie...      94   \n",
       "10864     ...       In comic Woody Allen's film debut, he took the...      80   \n",
       "10865     ...       A family gets lost on the road and stumbles up...      74   \n",
       "\n",
       "               genres     production_companies release_date vote_count  \\\n",
       "10863  Mystery|Comedy                  Mosfilm       1/1/66         11   \n",
       "10864   Action|Comedy  Benedict Pictures Corp.      11/2/66         22   \n",
       "10865          Horror                Norm-Iris     11/15/66         15   \n",
       "\n",
       "       vote_average  release_year     budget_adj  revenue_adj  \n",
       "10863           6.5          1966       0.000000          0.0  \n",
       "10864           5.4          1966       0.000000          0.0  \n",
       "10865           1.5          1966  127642.279154          0.0  \n",
       "\n",
       "[3 rows x 21 columns]"
      ]
     },
     "execution_count": 3,
     "metadata": {},
     "output_type": "execute_result"
    }
   ],
   "source": [
    "df.tail(3)"
   ]
  },
  {
   "cell_type": "markdown",
   "metadata": {},
   "source": [
    "# Assess\n",
    "\n",
    "#### Quality Issues :\n",
    "- id column type is int format and there are no need to do any mathematical oprations on it.\n",
    "\n",
    "- release_date cloumn type is str format.\n",
    "\n",
    "- missing values in colums\n",
    "(imdb_id,cast,homepage,director,tagline,keywords,overview,genres,production_companies).\n",
    "\n",
    "- dupicate in line 2090.\n",
    "\n",
    "- 31 row with 0 values in runtime column.\n",
    "\n",
    "- budget_adj column type in float format.\n",
    "\n",
    "- revenue_adj column type in float format.\n",
    "\n",
    "- 5696 with 0 values in budget_adj column.\n",
    "\n",
    "- 6016 with 0 values in revenue_adj column.\n",
    "\n",
    "\n",
    "#### Tidiness Issues :\n",
    "\n",
    "- cast,homepage,tagline,keywords,overview and production companies columns will not be necessary for my analysis "
   ]
  },
  {
   "cell_type": "code",
   "execution_count": 4,
   "metadata": {
    "collapsed": false
   },
   "outputs": [
    {
     "name": "stdout",
     "output_type": "stream",
     "text": [
      "<class 'pandas.core.frame.DataFrame'>\n",
      "RangeIndex: 10866 entries, 0 to 10865\n",
      "Data columns (total 21 columns):\n",
      "id                      10866 non-null int64\n",
      "imdb_id                 10856 non-null object\n",
      "popularity              10866 non-null float64\n",
      "budget                  10866 non-null int64\n",
      "revenue                 10866 non-null int64\n",
      "original_title          10866 non-null object\n",
      "cast                    10790 non-null object\n",
      "homepage                2936 non-null object\n",
      "director                10822 non-null object\n",
      "tagline                 8042 non-null object\n",
      "keywords                9373 non-null object\n",
      "overview                10862 non-null object\n",
      "runtime                 10866 non-null int64\n",
      "genres                  10843 non-null object\n",
      "production_companies    9836 non-null object\n",
      "release_date            10866 non-null object\n",
      "vote_count              10866 non-null int64\n",
      "vote_average            10866 non-null float64\n",
      "release_year            10866 non-null int64\n",
      "budget_adj              10866 non-null float64\n",
      "revenue_adj             10866 non-null float64\n",
      "dtypes: float64(4), int64(6), object(11)\n",
      "memory usage: 1.7+ MB\n"
     ]
    }
   ],
   "source": [
    "df.info()"
   ]
  },
  {
   "cell_type": "code",
   "execution_count": 5,
   "metadata": {
    "collapsed": false
   },
   "outputs": [
    {
     "data": {
      "text/plain": [
       "1"
      ]
     },
     "execution_count": 5,
     "metadata": {},
     "output_type": "execute_result"
    }
   ],
   "source": [
    "sum(df.duplicated())"
   ]
  },
  {
   "cell_type": "markdown",
   "metadata": {},
   "source": [
    "> Serching for duplicats"
   ]
  },
  {
   "cell_type": "code",
   "execution_count": 6,
   "metadata": {
    "collapsed": false
   },
   "outputs": [
    {
     "data": {
      "text/html": [
       "<div>\n",
       "<style scoped>\n",
       "    .dataframe tbody tr th:only-of-type {\n",
       "        vertical-align: middle;\n",
       "    }\n",
       "\n",
       "    .dataframe tbody tr th {\n",
       "        vertical-align: top;\n",
       "    }\n",
       "\n",
       "    .dataframe thead th {\n",
       "        text-align: right;\n",
       "    }\n",
       "</style>\n",
       "<table border=\"1\" class=\"dataframe\">\n",
       "  <thead>\n",
       "    <tr style=\"text-align: right;\">\n",
       "      <th></th>\n",
       "      <th>id</th>\n",
       "      <th>imdb_id</th>\n",
       "      <th>popularity</th>\n",
       "      <th>budget</th>\n",
       "      <th>revenue</th>\n",
       "      <th>original_title</th>\n",
       "      <th>cast</th>\n",
       "      <th>homepage</th>\n",
       "      <th>director</th>\n",
       "      <th>tagline</th>\n",
       "      <th>...</th>\n",
       "      <th>overview</th>\n",
       "      <th>runtime</th>\n",
       "      <th>genres</th>\n",
       "      <th>production_companies</th>\n",
       "      <th>release_date</th>\n",
       "      <th>vote_count</th>\n",
       "      <th>vote_average</th>\n",
       "      <th>release_year</th>\n",
       "      <th>budget_adj</th>\n",
       "      <th>revenue_adj</th>\n",
       "    </tr>\n",
       "  </thead>\n",
       "  <tbody>\n",
       "    <tr>\n",
       "      <th>2090</th>\n",
       "      <td>42194</td>\n",
       "      <td>tt0411951</td>\n",
       "      <td>0.59643</td>\n",
       "      <td>30000000</td>\n",
       "      <td>967000</td>\n",
       "      <td>TEKKEN</td>\n",
       "      <td>Jon Foo|Kelly Overton|Cary-Hiroyuki Tagawa|Ian...</td>\n",
       "      <td>NaN</td>\n",
       "      <td>Dwight H. Little</td>\n",
       "      <td>Survival is no game</td>\n",
       "      <td>...</td>\n",
       "      <td>In the year of 2039, after World Wars destroy ...</td>\n",
       "      <td>92</td>\n",
       "      <td>Crime|Drama|Action|Thriller|Science Fiction</td>\n",
       "      <td>Namco|Light Song Films</td>\n",
       "      <td>3/20/10</td>\n",
       "      <td>110</td>\n",
       "      <td>5.0</td>\n",
       "      <td>2010</td>\n",
       "      <td>30000000.0</td>\n",
       "      <td>967000.0</td>\n",
       "    </tr>\n",
       "  </tbody>\n",
       "</table>\n",
       "<p>1 rows × 21 columns</p>\n",
       "</div>"
      ],
      "text/plain": [
       "         id    imdb_id  popularity    budget  revenue original_title  \\\n",
       "2090  42194  tt0411951     0.59643  30000000   967000         TEKKEN   \n",
       "\n",
       "                                                   cast homepage  \\\n",
       "2090  Jon Foo|Kelly Overton|Cary-Hiroyuki Tagawa|Ian...      NaN   \n",
       "\n",
       "              director              tagline     ...       \\\n",
       "2090  Dwight H. Little  Survival is no game     ...        \n",
       "\n",
       "                                               overview runtime  \\\n",
       "2090  In the year of 2039, after World Wars destroy ...      92   \n",
       "\n",
       "                                           genres    production_companies  \\\n",
       "2090  Crime|Drama|Action|Thriller|Science Fiction  Namco|Light Song Films   \n",
       "\n",
       "     release_date vote_count  vote_average  release_year  budget_adj  \\\n",
       "2090      3/20/10        110           5.0          2010  30000000.0   \n",
       "\n",
       "      revenue_adj  \n",
       "2090     967000.0  \n",
       "\n",
       "[1 rows x 21 columns]"
      ]
     },
     "execution_count": 6,
     "metadata": {},
     "output_type": "execute_result"
    }
   ],
   "source": [
    "df.loc[df.duplicated()]"
   ]
  },
  {
   "cell_type": "markdown",
   "metadata": {},
   "source": [
    "> The duplicated line"
   ]
  },
  {
   "cell_type": "code",
   "execution_count": 7,
   "metadata": {
    "collapsed": false
   },
   "outputs": [
    {
     "data": {
      "text/plain": [
       "31"
      ]
     },
     "execution_count": 7,
     "metadata": {},
     "output_type": "execute_result"
    }
   ],
   "source": [
    "df.loc[df.runtime == 0][\"runtime\"].count()"
   ]
  },
  {
   "cell_type": "code",
   "execution_count": 8,
   "metadata": {
    "collapsed": false
   },
   "outputs": [
    {
     "data": {
      "text/plain": [
       "0"
      ]
     },
     "execution_count": 8,
     "metadata": {},
     "output_type": "execute_result"
    }
   ],
   "source": [
    "df.loc[df.vote_count == 0][\"vote_count\"].count()"
   ]
  },
  {
   "cell_type": "code",
   "execution_count": 9,
   "metadata": {
    "collapsed": false
   },
   "outputs": [
    {
     "data": {
      "text/plain": [
       "0"
      ]
     },
     "execution_count": 9,
     "metadata": {},
     "output_type": "execute_result"
    }
   ],
   "source": [
    "df.loc[df.vote_average == 0][\"vote_average\"].count()"
   ]
  },
  {
   "cell_type": "code",
   "execution_count": 10,
   "metadata": {
    "collapsed": false
   },
   "outputs": [
    {
     "data": {
      "text/plain": [
       "5696"
      ]
     },
     "execution_count": 10,
     "metadata": {},
     "output_type": "execute_result"
    }
   ],
   "source": [
    "df.loc[df.budget_adj == 0][\"budget_adj\"].count()"
   ]
  },
  {
   "cell_type": "code",
   "execution_count": 11,
   "metadata": {
    "collapsed": false
   },
   "outputs": [
    {
     "data": {
      "text/plain": [
       "6016"
      ]
     },
     "execution_count": 11,
     "metadata": {},
     "output_type": "execute_result"
    }
   ],
   "source": [
    "df.loc[df.revenue_adj == 0][\"revenue_adj\"].count()"
   ]
  },
  {
   "cell_type": "markdown",
   "metadata": {},
   "source": [
    "> Searching for 0 values in runtime , vote_count ,vote_average,budget_adj,revenue_adj columns"
   ]
  },
  {
   "cell_type": "code",
   "execution_count": 12,
   "metadata": {
    "collapsed": false
   },
   "outputs": [
    {
     "data": {
      "text/plain": [
       "id                         0\n",
       "imdb_id                   10\n",
       "popularity                 0\n",
       "budget                     0\n",
       "revenue                    0\n",
       "original_title             0\n",
       "cast                      76\n",
       "homepage                7930\n",
       "director                  44\n",
       "tagline                 2824\n",
       "keywords                1493\n",
       "overview                   4\n",
       "runtime                    0\n",
       "genres                    23\n",
       "production_companies    1030\n",
       "release_date               0\n",
       "vote_count                 0\n",
       "vote_average               0\n",
       "release_year               0\n",
       "budget_adj                 0\n",
       "revenue_adj                0\n",
       "dtype: int64"
      ]
     },
     "execution_count": 12,
     "metadata": {},
     "output_type": "execute_result"
    }
   ],
   "source": [
    "df.isna().sum()"
   ]
  },
  {
   "cell_type": "markdown",
   "metadata": {},
   "source": [
    "> Find all NaNs values in all columns"
   ]
  },
  {
   "cell_type": "code",
   "execution_count": 13,
   "metadata": {
    "collapsed": false
   },
   "outputs": [
    {
     "data": {
      "text/plain": [
       "10"
      ]
     },
     "execution_count": 13,
     "metadata": {},
     "output_type": "execute_result"
    }
   ],
   "source": [
    "sum(df.imdb_id.isnull())"
   ]
  },
  {
   "cell_type": "code",
   "execution_count": 14,
   "metadata": {
    "collapsed": false
   },
   "outputs": [
    {
     "data": {
      "text/html": [
       "<div>\n",
       "<style scoped>\n",
       "    .dataframe tbody tr th:only-of-type {\n",
       "        vertical-align: middle;\n",
       "    }\n",
       "\n",
       "    .dataframe tbody tr th {\n",
       "        vertical-align: top;\n",
       "    }\n",
       "\n",
       "    .dataframe thead th {\n",
       "        text-align: right;\n",
       "    }\n",
       "</style>\n",
       "<table border=\"1\" class=\"dataframe\">\n",
       "  <thead>\n",
       "    <tr style=\"text-align: right;\">\n",
       "      <th></th>\n",
       "      <th>id</th>\n",
       "      <th>imdb_id</th>\n",
       "      <th>popularity</th>\n",
       "      <th>budget</th>\n",
       "      <th>revenue</th>\n",
       "      <th>original_title</th>\n",
       "      <th>cast</th>\n",
       "      <th>homepage</th>\n",
       "      <th>director</th>\n",
       "      <th>tagline</th>\n",
       "      <th>...</th>\n",
       "      <th>overview</th>\n",
       "      <th>runtime</th>\n",
       "      <th>genres</th>\n",
       "      <th>production_companies</th>\n",
       "      <th>release_date</th>\n",
       "      <th>vote_count</th>\n",
       "      <th>vote_average</th>\n",
       "      <th>release_year</th>\n",
       "      <th>budget_adj</th>\n",
       "      <th>revenue_adj</th>\n",
       "    </tr>\n",
       "  </thead>\n",
       "  <tbody>\n",
       "    <tr>\n",
       "      <th>548</th>\n",
       "      <td>355131</td>\n",
       "      <td>NaN</td>\n",
       "      <td>0.108072</td>\n",
       "      <td>0</td>\n",
       "      <td>0</td>\n",
       "      <td>Sense8: Creating the World</td>\n",
       "      <td>Tuppence Middleton|Bae Doona |Brian J. Smith|A...</td>\n",
       "      <td>NaN</td>\n",
       "      <td>NaN</td>\n",
       "      <td>NaN</td>\n",
       "      <td>...</td>\n",
       "      <td>NaN</td>\n",
       "      <td>25</td>\n",
       "      <td>Documentary|Science Fiction</td>\n",
       "      <td>Netflix</td>\n",
       "      <td>8/10/15</td>\n",
       "      <td>12</td>\n",
       "      <td>7.5</td>\n",
       "      <td>2015</td>\n",
       "      <td>0.000000</td>\n",
       "      <td>0.0</td>\n",
       "    </tr>\n",
       "    <tr>\n",
       "      <th>997</th>\n",
       "      <td>287663</td>\n",
       "      <td>NaN</td>\n",
       "      <td>0.330431</td>\n",
       "      <td>0</td>\n",
       "      <td>0</td>\n",
       "      <td>Star Wars Rebels: Spark of Rebellion</td>\n",
       "      <td>Freddie Prinze Jr.|Vanessa Marshall|Steve Blum...</td>\n",
       "      <td>NaN</td>\n",
       "      <td>Steward Lee|Steven G. Lee</td>\n",
       "      <td>NaN</td>\n",
       "      <td>...</td>\n",
       "      <td>A Long Time Ago In A Galaxy Far, Far Awayâ€¦ A...</td>\n",
       "      <td>44</td>\n",
       "      <td>NaN</td>\n",
       "      <td>NaN</td>\n",
       "      <td>10/3/14</td>\n",
       "      <td>13</td>\n",
       "      <td>6.8</td>\n",
       "      <td>2014</td>\n",
       "      <td>0.000000</td>\n",
       "      <td>0.0</td>\n",
       "    </tr>\n",
       "    <tr>\n",
       "      <th>1528</th>\n",
       "      <td>15257</td>\n",
       "      <td>NaN</td>\n",
       "      <td>0.607851</td>\n",
       "      <td>0</td>\n",
       "      <td>0</td>\n",
       "      <td>Hulk vs. Wolverine</td>\n",
       "      <td>Fred Tatasciore|Bryce Johnson|Steve Blum|Nolan...</td>\n",
       "      <td>NaN</td>\n",
       "      <td>Frank Paur</td>\n",
       "      <td>NaN</td>\n",
       "      <td>...</td>\n",
       "      <td>Department H sends in Wolverine to track down ...</td>\n",
       "      <td>38</td>\n",
       "      <td>Animation|Action|Science Fiction</td>\n",
       "      <td>Marvel Studios</td>\n",
       "      <td>1/27/09</td>\n",
       "      <td>38</td>\n",
       "      <td>6.9</td>\n",
       "      <td>2009</td>\n",
       "      <td>0.000000</td>\n",
       "      <td>0.0</td>\n",
       "    </tr>\n",
       "    <tr>\n",
       "      <th>1750</th>\n",
       "      <td>101907</td>\n",
       "      <td>NaN</td>\n",
       "      <td>0.256975</td>\n",
       "      <td>0</td>\n",
       "      <td>0</td>\n",
       "      <td>Hulk vs. Thor</td>\n",
       "      <td>Graham McTavish|Fred Tatasciore|Matthew Wolf|J...</td>\n",
       "      <td>NaN</td>\n",
       "      <td>Sam Liu</td>\n",
       "      <td>A Battle Between God and Monster</td>\n",
       "      <td>...</td>\n",
       "      <td>For ages, Odin has protected his kingdom of As...</td>\n",
       "      <td>41</td>\n",
       "      <td>Action|Animation|Fantasy|Science Fiction</td>\n",
       "      <td>Marvel Studios</td>\n",
       "      <td>1/27/09</td>\n",
       "      <td>38</td>\n",
       "      <td>6.4</td>\n",
       "      <td>2009</td>\n",
       "      <td>0.000000</td>\n",
       "      <td>0.0</td>\n",
       "    </tr>\n",
       "    <tr>\n",
       "      <th>2401</th>\n",
       "      <td>45644</td>\n",
       "      <td>NaN</td>\n",
       "      <td>0.067753</td>\n",
       "      <td>0</td>\n",
       "      <td>0</td>\n",
       "      <td>Opeth: In Live Concert At The Royal Albert Hall</td>\n",
       "      <td>Mikael Ã…kerfeldt|Martin \"Axe\" Axenrot|Martin ...</td>\n",
       "      <td>http://www.opeth.com</td>\n",
       "      <td>NaN</td>\n",
       "      <td>The Loyal Disharmonic Orchestra, Conducted By ...</td>\n",
       "      <td>...</td>\n",
       "      <td>As part of the ongoing celebration of their 20...</td>\n",
       "      <td>163</td>\n",
       "      <td>Music</td>\n",
       "      <td>NaN</td>\n",
       "      <td>9/21/10</td>\n",
       "      <td>10</td>\n",
       "      <td>8.6</td>\n",
       "      <td>2010</td>\n",
       "      <td>0.000000</td>\n",
       "      <td>0.0</td>\n",
       "    </tr>\n",
       "    <tr>\n",
       "      <th>4797</th>\n",
       "      <td>369145</td>\n",
       "      <td>NaN</td>\n",
       "      <td>0.167501</td>\n",
       "      <td>0</td>\n",
       "      <td>0</td>\n",
       "      <td>Doctor Who: The Snowmen</td>\n",
       "      <td>Matt Smith|Jenna Coleman|Richard E. Grant|Ian ...</td>\n",
       "      <td>NaN</td>\n",
       "      <td>NaN</td>\n",
       "      <td>NaN</td>\n",
       "      <td>...</td>\n",
       "      <td>Christmas Eve, 1892, and the falling snow is t...</td>\n",
       "      <td>60</td>\n",
       "      <td>NaN</td>\n",
       "      <td>BBC Television UK</td>\n",
       "      <td>12/25/12</td>\n",
       "      <td>10</td>\n",
       "      <td>7.8</td>\n",
       "      <td>2012</td>\n",
       "      <td>0.000000</td>\n",
       "      <td>0.0</td>\n",
       "    </tr>\n",
       "    <tr>\n",
       "      <th>4872</th>\n",
       "      <td>269177</td>\n",
       "      <td>NaN</td>\n",
       "      <td>0.090552</td>\n",
       "      <td>0</td>\n",
       "      <td>0</td>\n",
       "      <td>Party Bercy</td>\n",
       "      <td>Florence Foresti</td>\n",
       "      <td>NaN</td>\n",
       "      <td>NaN</td>\n",
       "      <td>NaN</td>\n",
       "      <td>...</td>\n",
       "      <td>Florence Foresti is offered Bercy tribute to a...</td>\n",
       "      <td>120</td>\n",
       "      <td>Comedy</td>\n",
       "      <td>TF1 VidÃ©o</td>\n",
       "      <td>9/23/12</td>\n",
       "      <td>15</td>\n",
       "      <td>6.4</td>\n",
       "      <td>2012</td>\n",
       "      <td>0.000000</td>\n",
       "      <td>0.0</td>\n",
       "    </tr>\n",
       "    <tr>\n",
       "      <th>6071</th>\n",
       "      <td>279954</td>\n",
       "      <td>NaN</td>\n",
       "      <td>0.004323</td>\n",
       "      <td>500</td>\n",
       "      <td>0</td>\n",
       "      <td>Portal: Survive!</td>\n",
       "      <td>Monique Blanchard|Bradley Mixon</td>\n",
       "      <td>https://www.kickstarter.com/projects/colinandc...</td>\n",
       "      <td>Connor McGuire|Colin McGuire</td>\n",
       "      <td>The Cake is a Lie</td>\n",
       "      <td>...</td>\n",
       "      <td>A short, live action fan film by Collin and Co...</td>\n",
       "      <td>7</td>\n",
       "      <td>Action|Science Fiction</td>\n",
       "      <td>NaN</td>\n",
       "      <td>10/8/13</td>\n",
       "      <td>11</td>\n",
       "      <td>7.5</td>\n",
       "      <td>2013</td>\n",
       "      <td>468.016676</td>\n",
       "      <td>0.0</td>\n",
       "    </tr>\n",
       "    <tr>\n",
       "      <th>7527</th>\n",
       "      <td>50127</td>\n",
       "      <td>NaN</td>\n",
       "      <td>0.570337</td>\n",
       "      <td>0</td>\n",
       "      <td>0</td>\n",
       "      <td>Fallen: The Journey</td>\n",
       "      <td>Paul Wesley|Fernanda Andrade|Tom Skerritt|Rick...</td>\n",
       "      <td>NaN</td>\n",
       "      <td>Mikael Salomon</td>\n",
       "      <td>NaN</td>\n",
       "      <td>...</td>\n",
       "      <td>A year later, Aaron is still traveling around ...</td>\n",
       "      <td>80</td>\n",
       "      <td>Action|Adventure|Drama|Fantasy|Family</td>\n",
       "      <td>NaN</td>\n",
       "      <td>1/1/07</td>\n",
       "      <td>11</td>\n",
       "      <td>7.3</td>\n",
       "      <td>2007</td>\n",
       "      <td>0.000000</td>\n",
       "      <td>0.0</td>\n",
       "    </tr>\n",
       "    <tr>\n",
       "      <th>7809</th>\n",
       "      <td>50128</td>\n",
       "      <td>NaN</td>\n",
       "      <td>0.060795</td>\n",
       "      <td>0</td>\n",
       "      <td>0</td>\n",
       "      <td>Fallen: The Destiny</td>\n",
       "      <td>Paul Wesley|Fernanda Andrade|Tom Skerritt|Rick...</td>\n",
       "      <td>NaN</td>\n",
       "      <td>Mikael Salomon</td>\n",
       "      <td>NaN</td>\n",
       "      <td>...</td>\n",
       "      <td>Aaron and Azazel defeat the Powers, and force ...</td>\n",
       "      <td>80</td>\n",
       "      <td>Adventure|Fantasy|Drama|Action|Science Fiction</td>\n",
       "      <td>NaN</td>\n",
       "      <td>1/1/07</td>\n",
       "      <td>13</td>\n",
       "      <td>7.0</td>\n",
       "      <td>2007</td>\n",
       "      <td>0.000000</td>\n",
       "      <td>0.0</td>\n",
       "    </tr>\n",
       "  </tbody>\n",
       "</table>\n",
       "<p>10 rows × 21 columns</p>\n",
       "</div>"
      ],
      "text/plain": [
       "          id imdb_id  popularity  budget  revenue  \\\n",
       "548   355131     NaN    0.108072       0        0   \n",
       "997   287663     NaN    0.330431       0        0   \n",
       "1528   15257     NaN    0.607851       0        0   \n",
       "1750  101907     NaN    0.256975       0        0   \n",
       "2401   45644     NaN    0.067753       0        0   \n",
       "4797  369145     NaN    0.167501       0        0   \n",
       "4872  269177     NaN    0.090552       0        0   \n",
       "6071  279954     NaN    0.004323     500        0   \n",
       "7527   50127     NaN    0.570337       0        0   \n",
       "7809   50128     NaN    0.060795       0        0   \n",
       "\n",
       "                                       original_title  \\\n",
       "548                        Sense8: Creating the World   \n",
       "997              Star Wars Rebels: Spark of Rebellion   \n",
       "1528                               Hulk vs. Wolverine   \n",
       "1750                                    Hulk vs. Thor   \n",
       "2401  Opeth: In Live Concert At The Royal Albert Hall   \n",
       "4797                          Doctor Who: The Snowmen   \n",
       "4872                                      Party Bercy   \n",
       "6071                                 Portal: Survive!   \n",
       "7527                              Fallen: The Journey   \n",
       "7809                              Fallen: The Destiny   \n",
       "\n",
       "                                                   cast  \\\n",
       "548   Tuppence Middleton|Bae Doona |Brian J. Smith|A...   \n",
       "997   Freddie Prinze Jr.|Vanessa Marshall|Steve Blum...   \n",
       "1528  Fred Tatasciore|Bryce Johnson|Steve Blum|Nolan...   \n",
       "1750  Graham McTavish|Fred Tatasciore|Matthew Wolf|J...   \n",
       "2401  Mikael Ã…kerfeldt|Martin \"Axe\" Axenrot|Martin ...   \n",
       "4797  Matt Smith|Jenna Coleman|Richard E. Grant|Ian ...   \n",
       "4872                                   Florence Foresti   \n",
       "6071                    Monique Blanchard|Bradley Mixon   \n",
       "7527  Paul Wesley|Fernanda Andrade|Tom Skerritt|Rick...   \n",
       "7809  Paul Wesley|Fernanda Andrade|Tom Skerritt|Rick...   \n",
       "\n",
       "                                               homepage  \\\n",
       "548                                                 NaN   \n",
       "997                                                 NaN   \n",
       "1528                                                NaN   \n",
       "1750                                                NaN   \n",
       "2401                               http://www.opeth.com   \n",
       "4797                                                NaN   \n",
       "4872                                                NaN   \n",
       "6071  https://www.kickstarter.com/projects/colinandc...   \n",
       "7527                                                NaN   \n",
       "7809                                                NaN   \n",
       "\n",
       "                          director  \\\n",
       "548                            NaN   \n",
       "997      Steward Lee|Steven G. Lee   \n",
       "1528                    Frank Paur   \n",
       "1750                       Sam Liu   \n",
       "2401                           NaN   \n",
       "4797                           NaN   \n",
       "4872                           NaN   \n",
       "6071  Connor McGuire|Colin McGuire   \n",
       "7527                Mikael Salomon   \n",
       "7809                Mikael Salomon   \n",
       "\n",
       "                                                tagline     ...       \\\n",
       "548                                                 NaN     ...        \n",
       "997                                                 NaN     ...        \n",
       "1528                                                NaN     ...        \n",
       "1750                   A Battle Between God and Monster     ...        \n",
       "2401  The Loyal Disharmonic Orchestra, Conducted By ...     ...        \n",
       "4797                                                NaN     ...        \n",
       "4872                                                NaN     ...        \n",
       "6071                                  The Cake is a Lie     ...        \n",
       "7527                                                NaN     ...        \n",
       "7809                                                NaN     ...        \n",
       "\n",
       "                                               overview runtime  \\\n",
       "548                                                 NaN      25   \n",
       "997   A Long Time Ago In A Galaxy Far, Far Awayâ€¦ A...      44   \n",
       "1528  Department H sends in Wolverine to track down ...      38   \n",
       "1750  For ages, Odin has protected his kingdom of As...      41   \n",
       "2401  As part of the ongoing celebration of their 20...     163   \n",
       "4797  Christmas Eve, 1892, and the falling snow is t...      60   \n",
       "4872  Florence Foresti is offered Bercy tribute to a...     120   \n",
       "6071  A short, live action fan film by Collin and Co...       7   \n",
       "7527  A year later, Aaron is still traveling around ...      80   \n",
       "7809  Aaron and Azazel defeat the Powers, and force ...      80   \n",
       "\n",
       "                                              genres production_companies  \\\n",
       "548                      Documentary|Science Fiction              Netflix   \n",
       "997                                              NaN                  NaN   \n",
       "1528                Animation|Action|Science Fiction       Marvel Studios   \n",
       "1750        Action|Animation|Fantasy|Science Fiction       Marvel Studios   \n",
       "2401                                           Music                  NaN   \n",
       "4797                                             NaN    BBC Television UK   \n",
       "4872                                          Comedy           TF1 VidÃ©o   \n",
       "6071                          Action|Science Fiction                  NaN   \n",
       "7527           Action|Adventure|Drama|Fantasy|Family                  NaN   \n",
       "7809  Adventure|Fantasy|Drama|Action|Science Fiction                  NaN   \n",
       "\n",
       "     release_date vote_count  vote_average  release_year  budget_adj  \\\n",
       "548       8/10/15         12           7.5          2015    0.000000   \n",
       "997       10/3/14         13           6.8          2014    0.000000   \n",
       "1528      1/27/09         38           6.9          2009    0.000000   \n",
       "1750      1/27/09         38           6.4          2009    0.000000   \n",
       "2401      9/21/10         10           8.6          2010    0.000000   \n",
       "4797     12/25/12         10           7.8          2012    0.000000   \n",
       "4872      9/23/12         15           6.4          2012    0.000000   \n",
       "6071      10/8/13         11           7.5          2013  468.016676   \n",
       "7527       1/1/07         11           7.3          2007    0.000000   \n",
       "7809       1/1/07         13           7.0          2007    0.000000   \n",
       "\n",
       "      revenue_adj  \n",
       "548           0.0  \n",
       "997           0.0  \n",
       "1528          0.0  \n",
       "1750          0.0  \n",
       "2401          0.0  \n",
       "4797          0.0  \n",
       "4872          0.0  \n",
       "6071          0.0  \n",
       "7527          0.0  \n",
       "7809          0.0  \n",
       "\n",
       "[10 rows x 21 columns]"
      ]
     },
     "execution_count": 14,
     "metadata": {},
     "output_type": "execute_result"
    }
   ],
   "source": [
    "df[df.imdb_id.isnull()]"
   ]
  },
  {
   "cell_type": "code",
   "execution_count": 15,
   "metadata": {
    "collapsed": false
   },
   "outputs": [
    {
     "data": {
      "text/plain": [
       "44"
      ]
     },
     "execution_count": 15,
     "metadata": {},
     "output_type": "execute_result"
    }
   ],
   "source": [
    "sum(df.director.isnull())"
   ]
  },
  {
   "cell_type": "code",
   "execution_count": 16,
   "metadata": {
    "collapsed": false
   },
   "outputs": [
    {
     "data": {
      "text/html": [
       "<div>\n",
       "<style scoped>\n",
       "    .dataframe tbody tr th:only-of-type {\n",
       "        vertical-align: middle;\n",
       "    }\n",
       "\n",
       "    .dataframe tbody tr th {\n",
       "        vertical-align: top;\n",
       "    }\n",
       "\n",
       "    .dataframe thead th {\n",
       "        text-align: right;\n",
       "    }\n",
       "</style>\n",
       "<table border=\"1\" class=\"dataframe\">\n",
       "  <thead>\n",
       "    <tr style=\"text-align: right;\">\n",
       "      <th></th>\n",
       "      <th>id</th>\n",
       "      <th>imdb_id</th>\n",
       "      <th>popularity</th>\n",
       "      <th>budget</th>\n",
       "      <th>revenue</th>\n",
       "      <th>original_title</th>\n",
       "      <th>cast</th>\n",
       "      <th>homepage</th>\n",
       "      <th>director</th>\n",
       "      <th>tagline</th>\n",
       "      <th>...</th>\n",
       "      <th>overview</th>\n",
       "      <th>runtime</th>\n",
       "      <th>genres</th>\n",
       "      <th>production_companies</th>\n",
       "      <th>release_date</th>\n",
       "      <th>vote_count</th>\n",
       "      <th>vote_average</th>\n",
       "      <th>release_year</th>\n",
       "      <th>budget_adj</th>\n",
       "      <th>revenue_adj</th>\n",
       "    </tr>\n",
       "  </thead>\n",
       "  <tbody>\n",
       "    <tr>\n",
       "      <th>532</th>\n",
       "      <td>320996</td>\n",
       "      <td>tt4073952</td>\n",
       "      <td>0.126594</td>\n",
       "      <td>0</td>\n",
       "      <td>0</td>\n",
       "      <td>Iliza Shlesinger: Freezing Hot</td>\n",
       "      <td>Iliza Shlesinger</td>\n",
       "      <td>http://www.iliza.com/freezing-hot.html</td>\n",
       "      <td>NaN</td>\n",
       "      <td>NaN</td>\n",
       "      <td>...</td>\n",
       "      <td>Smart and brazen comedian Iliza Shlesinger sha...</td>\n",
       "      <td>71</td>\n",
       "      <td>Comedy</td>\n",
       "      <td>New Wave Entertainment</td>\n",
       "      <td>1/23/15</td>\n",
       "      <td>14</td>\n",
       "      <td>6.6</td>\n",
       "      <td>2015</td>\n",
       "      <td>0.0</td>\n",
       "      <td>0.0</td>\n",
       "    </tr>\n",
       "    <tr>\n",
       "      <th>548</th>\n",
       "      <td>355131</td>\n",
       "      <td>NaN</td>\n",
       "      <td>0.108072</td>\n",
       "      <td>0</td>\n",
       "      <td>0</td>\n",
       "      <td>Sense8: Creating the World</td>\n",
       "      <td>Tuppence Middleton|Bae Doona |Brian J. Smith|A...</td>\n",
       "      <td>NaN</td>\n",
       "      <td>NaN</td>\n",
       "      <td>NaN</td>\n",
       "      <td>...</td>\n",
       "      <td>NaN</td>\n",
       "      <td>25</td>\n",
       "      <td>Documentary|Science Fiction</td>\n",
       "      <td>Netflix</td>\n",
       "      <td>8/10/15</td>\n",
       "      <td>12</td>\n",
       "      <td>7.5</td>\n",
       "      <td>2015</td>\n",
       "      <td>0.0</td>\n",
       "      <td>0.0</td>\n",
       "    </tr>\n",
       "    <tr>\n",
       "      <th>556</th>\n",
       "      <td>321160</td>\n",
       "      <td>tt3908634</td>\n",
       "      <td>0.100910</td>\n",
       "      <td>0</td>\n",
       "      <td>0</td>\n",
       "      <td>With This Ring</td>\n",
       "      <td>Regina Hall|Jill Scott|Eve|Brooklyn Sudano|Dei...</td>\n",
       "      <td>http://www.mylifetime.com/movies/with-this-ring</td>\n",
       "      <td>NaN</td>\n",
       "      <td>NaN</td>\n",
       "      <td>...</td>\n",
       "      <td>After attending their friend Elise's (Sudano) ...</td>\n",
       "      <td>105</td>\n",
       "      <td>Comedy|Romance</td>\n",
       "      <td>Lifetime Television|Sony Pictures Television</td>\n",
       "      <td>1/24/15</td>\n",
       "      <td>14</td>\n",
       "      <td>6.5</td>\n",
       "      <td>2015</td>\n",
       "      <td>0.0</td>\n",
       "      <td>0.0</td>\n",
       "    </tr>\n",
       "  </tbody>\n",
       "</table>\n",
       "<p>3 rows × 21 columns</p>\n",
       "</div>"
      ],
      "text/plain": [
       "         id    imdb_id  popularity  budget  revenue  \\\n",
       "532  320996  tt4073952    0.126594       0        0   \n",
       "548  355131        NaN    0.108072       0        0   \n",
       "556  321160  tt3908634    0.100910       0        0   \n",
       "\n",
       "                     original_title  \\\n",
       "532  Iliza Shlesinger: Freezing Hot   \n",
       "548      Sense8: Creating the World   \n",
       "556                  With This Ring   \n",
       "\n",
       "                                                  cast  \\\n",
       "532                                   Iliza Shlesinger   \n",
       "548  Tuppence Middleton|Bae Doona |Brian J. Smith|A...   \n",
       "556  Regina Hall|Jill Scott|Eve|Brooklyn Sudano|Dei...   \n",
       "\n",
       "                                            homepage director tagline  \\\n",
       "532           http://www.iliza.com/freezing-hot.html      NaN     NaN   \n",
       "548                                              NaN      NaN     NaN   \n",
       "556  http://www.mylifetime.com/movies/with-this-ring      NaN     NaN   \n",
       "\n",
       "        ...                                                overview runtime  \\\n",
       "532     ...       Smart and brazen comedian Iliza Shlesinger sha...      71   \n",
       "548     ...                                                     NaN      25   \n",
       "556     ...       After attending their friend Elise's (Sudano) ...     105   \n",
       "\n",
       "                          genres  \\\n",
       "532                       Comedy   \n",
       "548  Documentary|Science Fiction   \n",
       "556               Comedy|Romance   \n",
       "\n",
       "                             production_companies release_date vote_count  \\\n",
       "532                        New Wave Entertainment      1/23/15         14   \n",
       "548                                       Netflix      8/10/15         12   \n",
       "556  Lifetime Television|Sony Pictures Television      1/24/15         14   \n",
       "\n",
       "     vote_average  release_year  budget_adj  revenue_adj  \n",
       "532           6.6          2015         0.0          0.0  \n",
       "548           7.5          2015         0.0          0.0  \n",
       "556           6.5          2015         0.0          0.0  \n",
       "\n",
       "[3 rows x 21 columns]"
      ]
     },
     "execution_count": 16,
     "metadata": {},
     "output_type": "execute_result"
    }
   ],
   "source": [
    "df[df.director.isnull()].head(3)"
   ]
  },
  {
   "cell_type": "code",
   "execution_count": 17,
   "metadata": {
    "collapsed": false
   },
   "outputs": [
    {
     "data": {
      "text/plain": [
       "23"
      ]
     },
     "execution_count": 17,
     "metadata": {},
     "output_type": "execute_result"
    }
   ],
   "source": [
    "sum(df.genres.isnull())"
   ]
  },
  {
   "cell_type": "code",
   "execution_count": 18,
   "metadata": {
    "collapsed": false
   },
   "outputs": [
    {
     "data": {
      "text/html": [
       "<div>\n",
       "<style scoped>\n",
       "    .dataframe tbody tr th:only-of-type {\n",
       "        vertical-align: middle;\n",
       "    }\n",
       "\n",
       "    .dataframe tbody tr th {\n",
       "        vertical-align: top;\n",
       "    }\n",
       "\n",
       "    .dataframe thead th {\n",
       "        text-align: right;\n",
       "    }\n",
       "</style>\n",
       "<table border=\"1\" class=\"dataframe\">\n",
       "  <thead>\n",
       "    <tr style=\"text-align: right;\">\n",
       "      <th></th>\n",
       "      <th>id</th>\n",
       "      <th>imdb_id</th>\n",
       "      <th>popularity</th>\n",
       "      <th>budget</th>\n",
       "      <th>revenue</th>\n",
       "      <th>original_title</th>\n",
       "      <th>cast</th>\n",
       "      <th>homepage</th>\n",
       "      <th>director</th>\n",
       "      <th>tagline</th>\n",
       "      <th>...</th>\n",
       "      <th>overview</th>\n",
       "      <th>runtime</th>\n",
       "      <th>genres</th>\n",
       "      <th>production_companies</th>\n",
       "      <th>release_date</th>\n",
       "      <th>vote_count</th>\n",
       "      <th>vote_average</th>\n",
       "      <th>release_year</th>\n",
       "      <th>budget_adj</th>\n",
       "      <th>revenue_adj</th>\n",
       "    </tr>\n",
       "  </thead>\n",
       "  <tbody>\n",
       "    <tr>\n",
       "      <th>424</th>\n",
       "      <td>363869</td>\n",
       "      <td>tt4835298</td>\n",
       "      <td>0.244648</td>\n",
       "      <td>0</td>\n",
       "      <td>0</td>\n",
       "      <td>Belli di papÃ</td>\n",
       "      <td>Diego Abatantuono|Matilde Gioli|Andrea Pisani|...</td>\n",
       "      <td>NaN</td>\n",
       "      <td>Guido Chiesa</td>\n",
       "      <td>NaN</td>\n",
       "      <td>...</td>\n",
       "      <td>Italian remake of the Mexican 2013 hit, \"We th...</td>\n",
       "      <td>100</td>\n",
       "      <td>NaN</td>\n",
       "      <td>NaN</td>\n",
       "      <td>10/29/15</td>\n",
       "      <td>21</td>\n",
       "      <td>6.1</td>\n",
       "      <td>2015</td>\n",
       "      <td>0.0</td>\n",
       "      <td>0.0</td>\n",
       "    </tr>\n",
       "    <tr>\n",
       "      <th>620</th>\n",
       "      <td>361043</td>\n",
       "      <td>tt5022680</td>\n",
       "      <td>0.129696</td>\n",
       "      <td>0</td>\n",
       "      <td>0</td>\n",
       "      <td>All Hallows' Eve 2</td>\n",
       "      <td>NaN</td>\n",
       "      <td>NaN</td>\n",
       "      <td>Antonio Padovan|Bryan Norton|Marc Roussel|Ryan...</td>\n",
       "      <td>NaN</td>\n",
       "      <td>...</td>\n",
       "      <td>A woman finds a VHS tape on her doorstep that ...</td>\n",
       "      <td>90</td>\n",
       "      <td>NaN</td>\n",
       "      <td>Ruthless Pictures|Hollywood Shorts</td>\n",
       "      <td>10/6/15</td>\n",
       "      <td>13</td>\n",
       "      <td>5.0</td>\n",
       "      <td>2015</td>\n",
       "      <td>0.0</td>\n",
       "      <td>0.0</td>\n",
       "    </tr>\n",
       "    <tr>\n",
       "      <th>997</th>\n",
       "      <td>287663</td>\n",
       "      <td>NaN</td>\n",
       "      <td>0.330431</td>\n",
       "      <td>0</td>\n",
       "      <td>0</td>\n",
       "      <td>Star Wars Rebels: Spark of Rebellion</td>\n",
       "      <td>Freddie Prinze Jr.|Vanessa Marshall|Steve Blum...</td>\n",
       "      <td>NaN</td>\n",
       "      <td>Steward Lee|Steven G. Lee</td>\n",
       "      <td>NaN</td>\n",
       "      <td>...</td>\n",
       "      <td>A Long Time Ago In A Galaxy Far, Far Awayâ€¦ A...</td>\n",
       "      <td>44</td>\n",
       "      <td>NaN</td>\n",
       "      <td>NaN</td>\n",
       "      <td>10/3/14</td>\n",
       "      <td>13</td>\n",
       "      <td>6.8</td>\n",
       "      <td>2014</td>\n",
       "      <td>0.0</td>\n",
       "      <td>0.0</td>\n",
       "    </tr>\n",
       "  </tbody>\n",
       "</table>\n",
       "<p>3 rows × 21 columns</p>\n",
       "</div>"
      ],
      "text/plain": [
       "         id    imdb_id  popularity  budget  revenue  \\\n",
       "424  363869  tt4835298    0.244648       0        0   \n",
       "620  361043  tt5022680    0.129696       0        0   \n",
       "997  287663        NaN    0.330431       0        0   \n",
       "\n",
       "                           original_title  \\\n",
       "424                        Belli di papÃ    \n",
       "620                    All Hallows' Eve 2   \n",
       "997  Star Wars Rebels: Spark of Rebellion   \n",
       "\n",
       "                                                  cast homepage  \\\n",
       "424  Diego Abatantuono|Matilde Gioli|Andrea Pisani|...      NaN   \n",
       "620                                                NaN      NaN   \n",
       "997  Freddie Prinze Jr.|Vanessa Marshall|Steve Blum...      NaN   \n",
       "\n",
       "                                              director tagline     ...       \\\n",
       "424                                       Guido Chiesa     NaN     ...        \n",
       "620  Antonio Padovan|Bryan Norton|Marc Roussel|Ryan...     NaN     ...        \n",
       "997                          Steward Lee|Steven G. Lee     NaN     ...        \n",
       "\n",
       "                                              overview runtime  genres  \\\n",
       "424  Italian remake of the Mexican 2013 hit, \"We th...     100     NaN   \n",
       "620  A woman finds a VHS tape on her doorstep that ...      90     NaN   \n",
       "997  A Long Time Ago In A Galaxy Far, Far Awayâ€¦ A...      44     NaN   \n",
       "\n",
       "                   production_companies release_date vote_count  vote_average  \\\n",
       "424                                 NaN     10/29/15         21           6.1   \n",
       "620  Ruthless Pictures|Hollywood Shorts      10/6/15         13           5.0   \n",
       "997                                 NaN      10/3/14         13           6.8   \n",
       "\n",
       "     release_year  budget_adj  revenue_adj  \n",
       "424          2015         0.0          0.0  \n",
       "620          2015         0.0          0.0  \n",
       "997          2014         0.0          0.0  \n",
       "\n",
       "[3 rows x 21 columns]"
      ]
     },
     "execution_count": 18,
     "metadata": {},
     "output_type": "execute_result"
    }
   ],
   "source": [
    "df[df.genres.isnull()].head(3)"
   ]
  },
  {
   "cell_type": "markdown",
   "metadata": {},
   "source": [
    "# Clean\n",
    "\n",
    "Cleaning the data issues both quaity and tidiness and save it in new data frame."
   ]
  },
  {
   "cell_type": "code",
   "execution_count": 19,
   "metadata": {
    "collapsed": false
   },
   "outputs": [],
   "source": [
    "clean_df = df.copy()"
   ]
  },
  {
   "cell_type": "markdown",
   "metadata": {},
   "source": [
    "> Create a new DF to make the new adjustments."
   ]
  },
  {
   "cell_type": "markdown",
   "metadata": {},
   "source": [
    "### Define\n",
    "- Change the id column from int to str type"
   ]
  },
  {
   "cell_type": "markdown",
   "metadata": {},
   "source": [
    "### Code"
   ]
  },
  {
   "cell_type": "code",
   "execution_count": 20,
   "metadata": {
    "collapsed": true
   },
   "outputs": [],
   "source": [
    "clean_df['id'] = clean_df.id.astype(str)"
   ]
  },
  {
   "cell_type": "markdown",
   "metadata": {},
   "source": [
    "### Test"
   ]
  },
  {
   "cell_type": "code",
   "execution_count": 21,
   "metadata": {
    "collapsed": false
   },
   "outputs": [
    {
     "data": {
      "text/plain": [
       "dtype('O')"
      ]
     },
     "execution_count": 21,
     "metadata": {},
     "output_type": "execute_result"
    }
   ],
   "source": [
    "clean_df.id.dtype"
   ]
  },
  {
   "cell_type": "markdown",
   "metadata": {},
   "source": [
    "### Define\n",
    "- Change the release_date cloumn type to datetime  "
   ]
  },
  {
   "cell_type": "markdown",
   "metadata": {},
   "source": [
    "### Code"
   ]
  },
  {
   "cell_type": "code",
   "execution_count": 22,
   "metadata": {
    "collapsed": true
   },
   "outputs": [],
   "source": [
    "clean_df.release_date = pd.to_datetime(clean_df.release_date)"
   ]
  },
  {
   "cell_type": "markdown",
   "metadata": {},
   "source": [
    "### Test"
   ]
  },
  {
   "cell_type": "code",
   "execution_count": 23,
   "metadata": {
    "collapsed": false
   },
   "outputs": [
    {
     "data": {
      "text/plain": [
       "dtype('<M8[ns]')"
      ]
     },
     "execution_count": 23,
     "metadata": {},
     "output_type": "execute_result"
    }
   ],
   "source": [
    "clean_df.release_date.dtype"
   ]
  },
  {
   "cell_type": "markdown",
   "metadata": {},
   "source": [
    "### Define\n",
    "- drop duplicated line 2090 "
   ]
  },
  {
   "cell_type": "markdown",
   "metadata": {},
   "source": [
    "### Code"
   ]
  },
  {
   "cell_type": "code",
   "execution_count": 24,
   "metadata": {
    "collapsed": true
   },
   "outputs": [],
   "source": [
    "clean_df.drop_duplicates(inplace = True)"
   ]
  },
  {
   "cell_type": "markdown",
   "metadata": {},
   "source": [
    "### Test"
   ]
  },
  {
   "cell_type": "code",
   "execution_count": 25,
   "metadata": {
    "collapsed": false
   },
   "outputs": [
    {
     "data": {
      "text/plain": [
       "0"
      ]
     },
     "execution_count": 25,
     "metadata": {},
     "output_type": "execute_result"
    }
   ],
   "source": [
    "sum(clean_df.duplicated())"
   ]
  },
  {
   "cell_type": "markdown",
   "metadata": {},
   "source": [
    "### Define\n",
    "- drop NaN values from geners column"
   ]
  },
  {
   "cell_type": "markdown",
   "metadata": {},
   "source": [
    "### Code"
   ]
  },
  {
   "cell_type": "code",
   "execution_count": 26,
   "metadata": {
    "collapsed": false
   },
   "outputs": [],
   "source": [
    "clean_df = clean_df.dropna(subset= [\"genres\"])"
   ]
  },
  {
   "cell_type": "markdown",
   "metadata": {},
   "source": [
    "### Test"
   ]
  },
  {
   "cell_type": "code",
   "execution_count": 27,
   "metadata": {
    "collapsed": false
   },
   "outputs": [
    {
     "name": "stdout",
     "output_type": "stream",
     "text": [
      "<class 'pandas.core.frame.DataFrame'>\n",
      "Int64Index: 10842 entries, 0 to 10865\n",
      "Data columns (total 21 columns):\n",
      "id                      10842 non-null object\n",
      "imdb_id                 10834 non-null object\n",
      "popularity              10842 non-null float64\n",
      "budget                  10842 non-null int64\n",
      "revenue                 10842 non-null int64\n",
      "original_title          10842 non-null object\n",
      "cast                    10767 non-null object\n",
      "homepage                2931 non-null object\n",
      "director                10800 non-null object\n",
      "tagline                 8036 non-null object\n",
      "keywords                9367 non-null object\n",
      "overview                10839 non-null object\n",
      "runtime                 10842 non-null int64\n",
      "genres                  10842 non-null object\n",
      "production_companies    9826 non-null object\n",
      "release_date            10842 non-null datetime64[ns]\n",
      "vote_count              10842 non-null int64\n",
      "vote_average            10842 non-null float64\n",
      "release_year            10842 non-null int64\n",
      "budget_adj              10842 non-null float64\n",
      "revenue_adj             10842 non-null float64\n",
      "dtypes: datetime64[ns](1), float64(4), int64(5), object(11)\n",
      "memory usage: 1.8+ MB\n"
     ]
    }
   ],
   "source": [
    "clean_df.info()"
   ]
  },
  {
   "cell_type": "markdown",
   "metadata": {},
   "source": [
    "### Define\n",
    "- Tidiness issue , Drop all columns that not necessary for our analize"
   ]
  },
  {
   "cell_type": "markdown",
   "metadata": {},
   "source": [
    "### Code"
   ]
  },
  {
   "cell_type": "code",
   "execution_count": 28,
   "metadata": {
    "collapsed": false
   },
   "outputs": [],
   "source": [
    "clean_df = clean_df.drop([\"cast\", \"homepage\", \"tagline\",\"keywords\",\"overview\",\"production_companies\"],axis=1)"
   ]
  },
  {
   "cell_type": "markdown",
   "metadata": {},
   "source": [
    "### Test"
   ]
  },
  {
   "cell_type": "code",
   "execution_count": 29,
   "metadata": {
    "collapsed": false
   },
   "outputs": [
    {
     "name": "stdout",
     "output_type": "stream",
     "text": [
      "<class 'pandas.core.frame.DataFrame'>\n",
      "Int64Index: 10842 entries, 0 to 10865\n",
      "Data columns (total 15 columns):\n",
      "id                10842 non-null object\n",
      "imdb_id           10834 non-null object\n",
      "popularity        10842 non-null float64\n",
      "budget            10842 non-null int64\n",
      "revenue           10842 non-null int64\n",
      "original_title    10842 non-null object\n",
      "director          10800 non-null object\n",
      "runtime           10842 non-null int64\n",
      "genres            10842 non-null object\n",
      "release_date      10842 non-null datetime64[ns]\n",
      "vote_count        10842 non-null int64\n",
      "vote_average      10842 non-null float64\n",
      "release_year      10842 non-null int64\n",
      "budget_adj        10842 non-null float64\n",
      "revenue_adj       10842 non-null float64\n",
      "dtypes: datetime64[ns](1), float64(4), int64(5), object(5)\n",
      "memory usage: 1.3+ MB\n"
     ]
    }
   ],
   "source": [
    "clean_df.info()"
   ]
  },
  {
   "cell_type": "markdown",
   "metadata": {},
   "source": [
    "### Define\n",
    "- Replace 0 in runtime with NaN values."
   ]
  },
  {
   "cell_type": "markdown",
   "metadata": {},
   "source": [
    "### Code"
   ]
  },
  {
   "cell_type": "code",
   "execution_count": 30,
   "metadata": {
    "collapsed": true
   },
   "outputs": [],
   "source": [
    "clean_df.runtime.replace(0, np.nan, inplace=True)"
   ]
  },
  {
   "cell_type": "markdown",
   "metadata": {
    "collapsed": true
   },
   "source": [
    "### Test"
   ]
  },
  {
   "cell_type": "code",
   "execution_count": 31,
   "metadata": {
    "collapsed": false
   },
   "outputs": [
    {
     "data": {
      "text/plain": [
       "0"
      ]
     },
     "execution_count": 31,
     "metadata": {},
     "output_type": "execute_result"
    }
   ],
   "source": [
    "clean_df.loc[df.runtime == 0][\"runtime\"].count()"
   ]
  },
  {
   "cell_type": "code",
   "execution_count": 32,
   "metadata": {
    "collapsed": false
   },
   "outputs": [
    {
     "data": {
      "text/plain": [
       "30"
      ]
     },
     "execution_count": 32,
     "metadata": {},
     "output_type": "execute_result"
    }
   ],
   "source": [
    "clean_df.runtime.isna().sum()"
   ]
  },
  {
   "cell_type": "markdown",
   "metadata": {},
   "source": [
    "### Define\n",
    "- Drop runtime column NaN values."
   ]
  },
  {
   "cell_type": "markdown",
   "metadata": {},
   "source": [
    "### Code"
   ]
  },
  {
   "cell_type": "code",
   "execution_count": 33,
   "metadata": {
    "collapsed": true
   },
   "outputs": [],
   "source": [
    "clean_df = clean_df.dropna(subset= [\"runtime\"])"
   ]
  },
  {
   "cell_type": "markdown",
   "metadata": {},
   "source": [
    "### Test"
   ]
  },
  {
   "cell_type": "code",
   "execution_count": 34,
   "metadata": {
    "collapsed": false
   },
   "outputs": [
    {
     "data": {
      "text/plain": [
       "0"
      ]
     },
     "execution_count": 34,
     "metadata": {},
     "output_type": "execute_result"
    }
   ],
   "source": [
    "clean_df.runtime.isna().sum()"
   ]
  },
  {
   "cell_type": "markdown",
   "metadata": {},
   "source": [
    "### Define \n",
    "- Drop director column NaN Values"
   ]
  },
  {
   "cell_type": "markdown",
   "metadata": {},
   "source": [
    "### Code"
   ]
  },
  {
   "cell_type": "code",
   "execution_count": 35,
   "metadata": {
    "collapsed": true
   },
   "outputs": [],
   "source": [
    "clean_df = clean_df.dropna(subset= [\"director\"])"
   ]
  },
  {
   "cell_type": "markdown",
   "metadata": {},
   "source": [
    "### Test"
   ]
  },
  {
   "cell_type": "code",
   "execution_count": 36,
   "metadata": {
    "collapsed": false
   },
   "outputs": [
    {
     "data": {
      "text/plain": [
       "0"
      ]
     },
     "execution_count": 36,
     "metadata": {},
     "output_type": "execute_result"
    }
   ],
   "source": [
    "clean_df.runtime.isna().sum()"
   ]
  },
  {
   "cell_type": "code",
   "execution_count": 37,
   "metadata": {
    "collapsed": false
   },
   "outputs": [
    {
     "name": "stdout",
     "output_type": "stream",
     "text": [
      "<class 'pandas.core.frame.DataFrame'>\n",
      "Int64Index: 10772 entries, 0 to 10865\n",
      "Data columns (total 15 columns):\n",
      "id                10772 non-null object\n",
      "imdb_id           10767 non-null object\n",
      "popularity        10772 non-null float64\n",
      "budget            10772 non-null int64\n",
      "revenue           10772 non-null int64\n",
      "original_title    10772 non-null object\n",
      "director          10772 non-null object\n",
      "runtime           10772 non-null float64\n",
      "genres            10772 non-null object\n",
      "release_date      10772 non-null datetime64[ns]\n",
      "vote_count        10772 non-null int64\n",
      "vote_average      10772 non-null float64\n",
      "release_year      10772 non-null int64\n",
      "budget_adj        10772 non-null float64\n",
      "revenue_adj       10772 non-null float64\n",
      "dtypes: datetime64[ns](1), float64(5), int64(4), object(5)\n",
      "memory usage: 1.3+ MB\n"
     ]
    }
   ],
   "source": [
    "clean_df.info()"
   ]
  },
  {
   "cell_type": "markdown",
   "metadata": {},
   "source": [
    "### Define \n",
    "- Replacing imdb_id column NaN values with the correct ID from IMDB website"
   ]
  },
  {
   "cell_type": "code",
   "execution_count": 38,
   "metadata": {
    "collapsed": false
   },
   "outputs": [
    {
     "data": {
      "text/html": [
       "<div>\n",
       "<style scoped>\n",
       "    .dataframe tbody tr th:only-of-type {\n",
       "        vertical-align: middle;\n",
       "    }\n",
       "\n",
       "    .dataframe tbody tr th {\n",
       "        vertical-align: top;\n",
       "    }\n",
       "\n",
       "    .dataframe thead th {\n",
       "        text-align: right;\n",
       "    }\n",
       "</style>\n",
       "<table border=\"1\" class=\"dataframe\">\n",
       "  <thead>\n",
       "    <tr style=\"text-align: right;\">\n",
       "      <th></th>\n",
       "      <th>id</th>\n",
       "      <th>imdb_id</th>\n",
       "      <th>popularity</th>\n",
       "      <th>budget</th>\n",
       "      <th>revenue</th>\n",
       "      <th>original_title</th>\n",
       "      <th>director</th>\n",
       "      <th>runtime</th>\n",
       "      <th>genres</th>\n",
       "      <th>release_date</th>\n",
       "      <th>vote_count</th>\n",
       "      <th>vote_average</th>\n",
       "      <th>release_year</th>\n",
       "      <th>budget_adj</th>\n",
       "      <th>revenue_adj</th>\n",
       "    </tr>\n",
       "  </thead>\n",
       "  <tbody>\n",
       "    <tr>\n",
       "      <th>1528</th>\n",
       "      <td>15257</td>\n",
       "      <td>NaN</td>\n",
       "      <td>0.607851</td>\n",
       "      <td>0</td>\n",
       "      <td>0</td>\n",
       "      <td>Hulk vs. Wolverine</td>\n",
       "      <td>Frank Paur</td>\n",
       "      <td>38.0</td>\n",
       "      <td>Animation|Action|Science Fiction</td>\n",
       "      <td>2009-01-27</td>\n",
       "      <td>38</td>\n",
       "      <td>6.9</td>\n",
       "      <td>2009</td>\n",
       "      <td>0.000000</td>\n",
       "      <td>0.0</td>\n",
       "    </tr>\n",
       "    <tr>\n",
       "      <th>1750</th>\n",
       "      <td>101907</td>\n",
       "      <td>NaN</td>\n",
       "      <td>0.256975</td>\n",
       "      <td>0</td>\n",
       "      <td>0</td>\n",
       "      <td>Hulk vs. Thor</td>\n",
       "      <td>Sam Liu</td>\n",
       "      <td>41.0</td>\n",
       "      <td>Action|Animation|Fantasy|Science Fiction</td>\n",
       "      <td>2009-01-27</td>\n",
       "      <td>38</td>\n",
       "      <td>6.4</td>\n",
       "      <td>2009</td>\n",
       "      <td>0.000000</td>\n",
       "      <td>0.0</td>\n",
       "    </tr>\n",
       "    <tr>\n",
       "      <th>6071</th>\n",
       "      <td>279954</td>\n",
       "      <td>NaN</td>\n",
       "      <td>0.004323</td>\n",
       "      <td>500</td>\n",
       "      <td>0</td>\n",
       "      <td>Portal: Survive!</td>\n",
       "      <td>Connor McGuire|Colin McGuire</td>\n",
       "      <td>7.0</td>\n",
       "      <td>Action|Science Fiction</td>\n",
       "      <td>2013-10-08</td>\n",
       "      <td>11</td>\n",
       "      <td>7.5</td>\n",
       "      <td>2013</td>\n",
       "      <td>468.016676</td>\n",
       "      <td>0.0</td>\n",
       "    </tr>\n",
       "    <tr>\n",
       "      <th>7527</th>\n",
       "      <td>50127</td>\n",
       "      <td>NaN</td>\n",
       "      <td>0.570337</td>\n",
       "      <td>0</td>\n",
       "      <td>0</td>\n",
       "      <td>Fallen: The Journey</td>\n",
       "      <td>Mikael Salomon</td>\n",
       "      <td>80.0</td>\n",
       "      <td>Action|Adventure|Drama|Fantasy|Family</td>\n",
       "      <td>2007-01-01</td>\n",
       "      <td>11</td>\n",
       "      <td>7.3</td>\n",
       "      <td>2007</td>\n",
       "      <td>0.000000</td>\n",
       "      <td>0.0</td>\n",
       "    </tr>\n",
       "    <tr>\n",
       "      <th>7809</th>\n",
       "      <td>50128</td>\n",
       "      <td>NaN</td>\n",
       "      <td>0.060795</td>\n",
       "      <td>0</td>\n",
       "      <td>0</td>\n",
       "      <td>Fallen: The Destiny</td>\n",
       "      <td>Mikael Salomon</td>\n",
       "      <td>80.0</td>\n",
       "      <td>Adventure|Fantasy|Drama|Action|Science Fiction</td>\n",
       "      <td>2007-01-01</td>\n",
       "      <td>13</td>\n",
       "      <td>7.0</td>\n",
       "      <td>2007</td>\n",
       "      <td>0.000000</td>\n",
       "      <td>0.0</td>\n",
       "    </tr>\n",
       "  </tbody>\n",
       "</table>\n",
       "</div>"
      ],
      "text/plain": [
       "          id imdb_id  popularity  budget  revenue       original_title  \\\n",
       "1528   15257     NaN    0.607851       0        0   Hulk vs. Wolverine   \n",
       "1750  101907     NaN    0.256975       0        0        Hulk vs. Thor   \n",
       "6071  279954     NaN    0.004323     500        0     Portal: Survive!   \n",
       "7527   50127     NaN    0.570337       0        0  Fallen: The Journey   \n",
       "7809   50128     NaN    0.060795       0        0  Fallen: The Destiny   \n",
       "\n",
       "                          director  runtime  \\\n",
       "1528                    Frank Paur     38.0   \n",
       "1750                       Sam Liu     41.0   \n",
       "6071  Connor McGuire|Colin McGuire      7.0   \n",
       "7527                Mikael Salomon     80.0   \n",
       "7809                Mikael Salomon     80.0   \n",
       "\n",
       "                                              genres release_date  vote_count  \\\n",
       "1528                Animation|Action|Science Fiction   2009-01-27          38   \n",
       "1750        Action|Animation|Fantasy|Science Fiction   2009-01-27          38   \n",
       "6071                          Action|Science Fiction   2013-10-08          11   \n",
       "7527           Action|Adventure|Drama|Fantasy|Family   2007-01-01          11   \n",
       "7809  Adventure|Fantasy|Drama|Action|Science Fiction   2007-01-01          13   \n",
       "\n",
       "      vote_average  release_year  budget_adj  revenue_adj  \n",
       "1528           6.9          2009    0.000000          0.0  \n",
       "1750           6.4          2009    0.000000          0.0  \n",
       "6071           7.5          2013  468.016676          0.0  \n",
       "7527           7.3          2007    0.000000          0.0  \n",
       "7809           7.0          2007    0.000000          0.0  "
      ]
     },
     "execution_count": 38,
     "metadata": {},
     "output_type": "execute_result"
    }
   ],
   "source": [
    "clean_df[clean_df.imdb_id.isnull()]"
   ]
  },
  {
   "cell_type": "markdown",
   "metadata": {},
   "source": [
    "### Code"
   ]
  },
  {
   "cell_type": "code",
   "execution_count": 39,
   "metadata": {
    "collapsed": true
   },
   "outputs": [],
   "source": [
    "clean_df.loc[1528,\"imdb_id\"] = \"tt1325753\"\n",
    "clean_df.loc[1750,\"imdb_id\"] = \"tt1325753\"\n",
    "clean_df.loc[6071,\"imdb_id\"] = \"tt9755546\"\n",
    "clean_df.loc[7527,\"imdb_id\"] = \"tt8936254\""
   ]
  },
  {
   "cell_type": "code",
   "execution_count": 40,
   "metadata": {
    "collapsed": false
   },
   "outputs": [
    {
     "data": {
      "text/html": [
       "<div>\n",
       "<style scoped>\n",
       "    .dataframe tbody tr th:only-of-type {\n",
       "        vertical-align: middle;\n",
       "    }\n",
       "\n",
       "    .dataframe tbody tr th {\n",
       "        vertical-align: top;\n",
       "    }\n",
       "\n",
       "    .dataframe thead th {\n",
       "        text-align: right;\n",
       "    }\n",
       "</style>\n",
       "<table border=\"1\" class=\"dataframe\">\n",
       "  <thead>\n",
       "    <tr style=\"text-align: right;\">\n",
       "      <th></th>\n",
       "      <th>id</th>\n",
       "      <th>imdb_id</th>\n",
       "      <th>popularity</th>\n",
       "      <th>budget</th>\n",
       "      <th>revenue</th>\n",
       "      <th>original_title</th>\n",
       "      <th>director</th>\n",
       "      <th>runtime</th>\n",
       "      <th>genres</th>\n",
       "      <th>release_date</th>\n",
       "      <th>vote_count</th>\n",
       "      <th>vote_average</th>\n",
       "      <th>release_year</th>\n",
       "      <th>budget_adj</th>\n",
       "      <th>revenue_adj</th>\n",
       "    </tr>\n",
       "  </thead>\n",
       "  <tbody>\n",
       "    <tr>\n",
       "      <th>7809</th>\n",
       "      <td>50128</td>\n",
       "      <td>NaN</td>\n",
       "      <td>0.060795</td>\n",
       "      <td>0</td>\n",
       "      <td>0</td>\n",
       "      <td>Fallen: The Destiny</td>\n",
       "      <td>Mikael Salomon</td>\n",
       "      <td>80.0</td>\n",
       "      <td>Adventure|Fantasy|Drama|Action|Science Fiction</td>\n",
       "      <td>2007-01-01</td>\n",
       "      <td>13</td>\n",
       "      <td>7.0</td>\n",
       "      <td>2007</td>\n",
       "      <td>0.0</td>\n",
       "      <td>0.0</td>\n",
       "    </tr>\n",
       "  </tbody>\n",
       "</table>\n",
       "</div>"
      ],
      "text/plain": [
       "         id imdb_id  popularity  budget  revenue       original_title  \\\n",
       "7809  50128     NaN    0.060795       0        0  Fallen: The Destiny   \n",
       "\n",
       "            director  runtime                                          genres  \\\n",
       "7809  Mikael Salomon     80.0  Adventure|Fantasy|Drama|Action|Science Fiction   \n",
       "\n",
       "     release_date  vote_count  vote_average  release_year  budget_adj  \\\n",
       "7809   2007-01-01          13           7.0          2007         0.0   \n",
       "\n",
       "      revenue_adj  \n",
       "7809          0.0  "
      ]
     },
     "execution_count": 40,
     "metadata": {},
     "output_type": "execute_result"
    }
   ],
   "source": [
    "clean_df[clean_df.imdb_id.isnull()]"
   ]
  },
  {
   "cell_type": "markdown",
   "metadata": {},
   "source": [
    "> Note: I can't find it at IMDB site , so I will drop this row"
   ]
  },
  {
   "cell_type": "code",
   "execution_count": 41,
   "metadata": {
    "collapsed": true
   },
   "outputs": [],
   "source": [
    "clean_df = clean_df.dropna(subset= [\"imdb_id\"])"
   ]
  },
  {
   "cell_type": "markdown",
   "metadata": {},
   "source": [
    "### Test"
   ]
  },
  {
   "cell_type": "code",
   "execution_count": 42,
   "metadata": {
    "collapsed": false
   },
   "outputs": [
    {
     "data": {
      "text/plain": [
       "0"
      ]
     },
     "execution_count": 42,
     "metadata": {},
     "output_type": "execute_result"
    }
   ],
   "source": [
    "clean_df.imdb_id.isna().sum()"
   ]
  },
  {
   "cell_type": "markdown",
   "metadata": {},
   "source": [
    "### Define\n",
    "- Dealing with 0 values in both budget_adj and revenue_adj columns."
   ]
  },
  {
   "cell_type": "markdown",
   "metadata": {},
   "source": [
    "> Note: Dropping the 0 Values lines will affect the data set a lot it will drop more than half of it. The best practice I will drop the 2 columns. because they will not be part of my analysis"
   ]
  },
  {
   "cell_type": "markdown",
   "metadata": {},
   "source": [
    "### Code"
   ]
  },
  {
   "cell_type": "code",
   "execution_count": 43,
   "metadata": {
    "collapsed": true
   },
   "outputs": [],
   "source": [
    "clean_df = clean_df.drop([\"budget_adj\",\"revenue_adj\"],axis=1)"
   ]
  },
  {
   "cell_type": "markdown",
   "metadata": {},
   "source": [
    "### Test"
   ]
  },
  {
   "cell_type": "code",
   "execution_count": 44,
   "metadata": {
    "collapsed": false
   },
   "outputs": [
    {
     "name": "stdout",
     "output_type": "stream",
     "text": [
      "<class 'pandas.core.frame.DataFrame'>\n",
      "Int64Index: 10771 entries, 0 to 10865\n",
      "Data columns (total 13 columns):\n",
      "id                10771 non-null object\n",
      "imdb_id           10771 non-null object\n",
      "popularity        10771 non-null float64\n",
      "budget            10771 non-null int64\n",
      "revenue           10771 non-null int64\n",
      "original_title    10771 non-null object\n",
      "director          10771 non-null object\n",
      "runtime           10771 non-null float64\n",
      "genres            10771 non-null object\n",
      "release_date      10771 non-null datetime64[ns]\n",
      "vote_count        10771 non-null int64\n",
      "vote_average      10771 non-null float64\n",
      "release_year      10771 non-null int64\n",
      "dtypes: datetime64[ns](1), float64(3), int64(4), object(5)\n",
      "memory usage: 1.2+ MB\n"
     ]
    }
   ],
   "source": [
    "clean_df.info()"
   ]
  },
  {
   "cell_type": "markdown",
   "metadata": {},
   "source": [
    "### Define\n",
    "- Change the runtime cloumn to int format"
   ]
  },
  {
   "cell_type": "markdown",
   "metadata": {},
   "source": [
    "### Code"
   ]
  },
  {
   "cell_type": "code",
   "execution_count": 45,
   "metadata": {
    "collapsed": true
   },
   "outputs": [],
   "source": [
    "clean_df['runtime'] = clean_df.runtime.astype(int)"
   ]
  },
  {
   "cell_type": "markdown",
   "metadata": {},
   "source": [
    "### Test"
   ]
  },
  {
   "cell_type": "code",
   "execution_count": 46,
   "metadata": {
    "collapsed": false
   },
   "outputs": [
    {
     "data": {
      "text/plain": [
       "dtype('int32')"
      ]
     },
     "execution_count": 46,
     "metadata": {},
     "output_type": "execute_result"
    }
   ],
   "source": [
    "clean_df.runtime.dtype"
   ]
  },
  {
   "cell_type": "code",
   "execution_count": 47,
   "metadata": {
    "collapsed": false
   },
   "outputs": [
    {
     "name": "stdout",
     "output_type": "stream",
     "text": [
      "<class 'pandas.core.frame.DataFrame'>\n",
      "Int64Index: 10771 entries, 0 to 10865\n",
      "Data columns (total 13 columns):\n",
      "id                10771 non-null object\n",
      "imdb_id           10771 non-null object\n",
      "popularity        10771 non-null float64\n",
      "budget            10771 non-null int64\n",
      "revenue           10771 non-null int64\n",
      "original_title    10771 non-null object\n",
      "director          10771 non-null object\n",
      "runtime           10771 non-null int32\n",
      "genres            10771 non-null object\n",
      "release_date      10771 non-null datetime64[ns]\n",
      "vote_count        10771 non-null int64\n",
      "vote_average      10771 non-null float64\n",
      "release_year      10771 non-null int64\n",
      "dtypes: datetime64[ns](1), float64(2), int32(1), int64(4), object(5)\n",
      "memory usage: 1.1+ MB\n"
     ]
    }
   ],
   "source": [
    "clean_df.info()"
   ]
  },
  {
   "cell_type": "code",
   "execution_count": 48,
   "metadata": {
    "collapsed": false
   },
   "outputs": [
    {
     "data": {
      "text/html": [
       "<div>\n",
       "<style scoped>\n",
       "    .dataframe tbody tr th:only-of-type {\n",
       "        vertical-align: middle;\n",
       "    }\n",
       "\n",
       "    .dataframe tbody tr th {\n",
       "        vertical-align: top;\n",
       "    }\n",
       "\n",
       "    .dataframe thead th {\n",
       "        text-align: right;\n",
       "    }\n",
       "</style>\n",
       "<table border=\"1\" class=\"dataframe\">\n",
       "  <thead>\n",
       "    <tr style=\"text-align: right;\">\n",
       "      <th></th>\n",
       "      <th>id</th>\n",
       "      <th>imdb_id</th>\n",
       "      <th>popularity</th>\n",
       "      <th>budget</th>\n",
       "      <th>revenue</th>\n",
       "      <th>original_title</th>\n",
       "      <th>director</th>\n",
       "      <th>runtime</th>\n",
       "      <th>genres</th>\n",
       "      <th>release_date</th>\n",
       "      <th>vote_count</th>\n",
       "      <th>vote_average</th>\n",
       "      <th>release_year</th>\n",
       "    </tr>\n",
       "  </thead>\n",
       "  <tbody>\n",
       "    <tr>\n",
       "      <th>0</th>\n",
       "      <td>135397</td>\n",
       "      <td>tt0369610</td>\n",
       "      <td>32.985763</td>\n",
       "      <td>150000000</td>\n",
       "      <td>1513528810</td>\n",
       "      <td>Jurassic World</td>\n",
       "      <td>Colin Trevorrow</td>\n",
       "      <td>124</td>\n",
       "      <td>Action|Adventure|Science Fiction|Thriller</td>\n",
       "      <td>2015-06-09</td>\n",
       "      <td>5562</td>\n",
       "      <td>6.5</td>\n",
       "      <td>2015</td>\n",
       "    </tr>\n",
       "    <tr>\n",
       "      <th>1</th>\n",
       "      <td>76341</td>\n",
       "      <td>tt1392190</td>\n",
       "      <td>28.419936</td>\n",
       "      <td>150000000</td>\n",
       "      <td>378436354</td>\n",
       "      <td>Mad Max: Fury Road</td>\n",
       "      <td>George Miller</td>\n",
       "      <td>120</td>\n",
       "      <td>Action|Adventure|Science Fiction|Thriller</td>\n",
       "      <td>2015-05-13</td>\n",
       "      <td>6185</td>\n",
       "      <td>7.1</td>\n",
       "      <td>2015</td>\n",
       "    </tr>\n",
       "    <tr>\n",
       "      <th>2</th>\n",
       "      <td>262500</td>\n",
       "      <td>tt2908446</td>\n",
       "      <td>13.112507</td>\n",
       "      <td>110000000</td>\n",
       "      <td>295238201</td>\n",
       "      <td>Insurgent</td>\n",
       "      <td>Robert Schwentke</td>\n",
       "      <td>119</td>\n",
       "      <td>Adventure|Science Fiction|Thriller</td>\n",
       "      <td>2015-03-18</td>\n",
       "      <td>2480</td>\n",
       "      <td>6.3</td>\n",
       "      <td>2015</td>\n",
       "    </tr>\n",
       "    <tr>\n",
       "      <th>3</th>\n",
       "      <td>140607</td>\n",
       "      <td>tt2488496</td>\n",
       "      <td>11.173104</td>\n",
       "      <td>200000000</td>\n",
       "      <td>2068178225</td>\n",
       "      <td>Star Wars: The Force Awakens</td>\n",
       "      <td>J.J. Abrams</td>\n",
       "      <td>136</td>\n",
       "      <td>Action|Adventure|Science Fiction|Fantasy</td>\n",
       "      <td>2015-12-15</td>\n",
       "      <td>5292</td>\n",
       "      <td>7.5</td>\n",
       "      <td>2015</td>\n",
       "    </tr>\n",
       "    <tr>\n",
       "      <th>4</th>\n",
       "      <td>168259</td>\n",
       "      <td>tt2820852</td>\n",
       "      <td>9.335014</td>\n",
       "      <td>190000000</td>\n",
       "      <td>1506249360</td>\n",
       "      <td>Furious 7</td>\n",
       "      <td>James Wan</td>\n",
       "      <td>137</td>\n",
       "      <td>Action|Crime|Thriller</td>\n",
       "      <td>2015-04-01</td>\n",
       "      <td>2947</td>\n",
       "      <td>7.3</td>\n",
       "      <td>2015</td>\n",
       "    </tr>\n",
       "  </tbody>\n",
       "</table>\n",
       "</div>"
      ],
      "text/plain": [
       "       id    imdb_id  popularity     budget     revenue  \\\n",
       "0  135397  tt0369610   32.985763  150000000  1513528810   \n",
       "1   76341  tt1392190   28.419936  150000000   378436354   \n",
       "2  262500  tt2908446   13.112507  110000000   295238201   \n",
       "3  140607  tt2488496   11.173104  200000000  2068178225   \n",
       "4  168259  tt2820852    9.335014  190000000  1506249360   \n",
       "\n",
       "                 original_title          director  runtime  \\\n",
       "0                Jurassic World   Colin Trevorrow      124   \n",
       "1            Mad Max: Fury Road     George Miller      120   \n",
       "2                     Insurgent  Robert Schwentke      119   \n",
       "3  Star Wars: The Force Awakens       J.J. Abrams      136   \n",
       "4                     Furious 7         James Wan      137   \n",
       "\n",
       "                                      genres release_date  vote_count  \\\n",
       "0  Action|Adventure|Science Fiction|Thriller   2015-06-09        5562   \n",
       "1  Action|Adventure|Science Fiction|Thriller   2015-05-13        6185   \n",
       "2         Adventure|Science Fiction|Thriller   2015-03-18        2480   \n",
       "3   Action|Adventure|Science Fiction|Fantasy   2015-12-15        5292   \n",
       "4                      Action|Crime|Thriller   2015-04-01        2947   \n",
       "\n",
       "   vote_average  release_year  \n",
       "0           6.5          2015  \n",
       "1           7.1          2015  \n",
       "2           6.3          2015  \n",
       "3           7.5          2015  \n",
       "4           7.3          2015  "
      ]
     },
     "execution_count": 48,
     "metadata": {},
     "output_type": "execute_result"
    }
   ],
   "source": [
    "clean_df.head()"
   ]
  },
  {
   "cell_type": "markdown",
   "metadata": {},
   "source": [
    "## Storing  the cleaned DF in new CSV file "
   ]
  },
  {
   "cell_type": "code",
   "execution_count": 49,
   "metadata": {
    "collapsed": true
   },
   "outputs": [],
   "source": [
    "# save the final DF as twitter_archive_master.csv as requisted\n",
    "\n",
    "clean_df.to_csv(\"tmdb_cleaned.csv\")"
   ]
  },
  {
   "cell_type": "markdown",
   "metadata": {},
   "source": [
    "<a id='eda'></a>\n",
    "## Exploratory Data Analysis\n",
    "\n",
    "\n",
    "\n",
    "### Research Question 1 ( what are the characteristics of the highest rated movies?)"
   ]
  },
  {
   "cell_type": "markdown",
   "metadata": {},
   "source": [
    "> Getting some info to detrmaine what are the top movies?"
   ]
  },
  {
   "cell_type": "code",
   "execution_count": 50,
   "metadata": {
    "collapsed": false
   },
   "outputs": [
    {
     "data": {
      "text/plain": [
       "count    10771.000000\n",
       "mean       219.133599\n",
       "std        577.849529\n",
       "min         10.000000\n",
       "25%         17.000000\n",
       "50%         39.000000\n",
       "75%        147.000000\n",
       "max       9767.000000\n",
       "Name: vote_count, dtype: float64"
      ]
     },
     "execution_count": 50,
     "metadata": {},
     "output_type": "execute_result"
    }
   ],
   "source": [
    "clean_df.vote_count.describe()"
   ]
  },
  {
   "cell_type": "code",
   "execution_count": 51,
   "metadata": {
    "collapsed": false
   },
   "outputs": [
    {
     "data": {
      "text/plain": [
       "count    10771.000000\n",
       "mean         5.972194\n",
       "std          0.932867\n",
       "min          1.500000\n",
       "25%          5.400000\n",
       "50%          6.000000\n",
       "75%          6.600000\n",
       "max          9.200000\n",
       "Name: vote_average, dtype: float64"
      ]
     },
     "execution_count": 51,
     "metadata": {},
     "output_type": "execute_result"
    }
   ],
   "source": [
    "clean_df.vote_average.describe()"
   ]
  },
  {
   "cell_type": "markdown",
   "metadata": {},
   "source": [
    "> I will count on 2 main factors vote_count and vote_average."
   ]
  },
  {
   "cell_type": "markdown",
   "metadata": {},
   "source": [
    "- Since the gap between 75% and max of vote_count values is very wide I will pick 1000 to start from."
   ]
  },
  {
   "cell_type": "markdown",
   "metadata": {},
   "source": [
    "- Since the gab between 75% and max of vote_average values is around 6.6 and 9.2. I will take their mean which is 7.9."
   ]
  },
  {
   "cell_type": "code",
   "execution_count": 52,
   "metadata": {
    "collapsed": false
   },
   "outputs": [
    {
     "data": {
      "text/plain": [
       "20"
      ]
     },
     "execution_count": 52,
     "metadata": {},
     "output_type": "execute_result"
    }
   ],
   "source": [
    "sum((clean_df.vote_average > 7.9) & (clean_df.vote_count > 1000))"
   ]
  },
  {
   "cell_type": "markdown",
   "metadata": {},
   "source": [
    "- There are 20 movies within these values."
   ]
  },
  {
   "cell_type": "markdown",
   "metadata": {},
   "source": [
    "- I will assign these movies in top_rated df."
   ]
  },
  {
   "cell_type": "code",
   "execution_count": 53,
   "metadata": {
    "collapsed": false
   },
   "outputs": [
    {
     "data": {
      "text/html": [
       "<div>\n",
       "<style scoped>\n",
       "    .dataframe tbody tr th:only-of-type {\n",
       "        vertical-align: middle;\n",
       "    }\n",
       "\n",
       "    .dataframe tbody tr th {\n",
       "        vertical-align: top;\n",
       "    }\n",
       "\n",
       "    .dataframe thead th {\n",
       "        text-align: right;\n",
       "    }\n",
       "</style>\n",
       "<table border=\"1\" class=\"dataframe\">\n",
       "  <thead>\n",
       "    <tr style=\"text-align: right;\">\n",
       "      <th></th>\n",
       "      <th>id</th>\n",
       "      <th>imdb_id</th>\n",
       "      <th>popularity</th>\n",
       "      <th>budget</th>\n",
       "      <th>revenue</th>\n",
       "      <th>original_title</th>\n",
       "      <th>director</th>\n",
       "      <th>runtime</th>\n",
       "      <th>genres</th>\n",
       "      <th>release_date</th>\n",
       "      <th>vote_count</th>\n",
       "      <th>vote_average</th>\n",
       "      <th>release_year</th>\n",
       "    </tr>\n",
       "  </thead>\n",
       "  <tbody>\n",
       "    <tr>\n",
       "      <th>9</th>\n",
       "      <td>150540</td>\n",
       "      <td>tt2096673</td>\n",
       "      <td>6.326804</td>\n",
       "      <td>175000000</td>\n",
       "      <td>853708609</td>\n",
       "      <td>Inside Out</td>\n",
       "      <td>Pete Docter</td>\n",
       "      <td>94</td>\n",
       "      <td>Comedy|Animation|Family</td>\n",
       "      <td>2015-06-09</td>\n",
       "      <td>3935</td>\n",
       "      <td>8.0</td>\n",
       "      <td>2015</td>\n",
       "    </tr>\n",
       "    <tr>\n",
       "      <th>35</th>\n",
       "      <td>264644</td>\n",
       "      <td>tt3170832</td>\n",
       "      <td>3.557846</td>\n",
       "      <td>6000000</td>\n",
       "      <td>35401758</td>\n",
       "      <td>Room</td>\n",
       "      <td>Lenny Abrahamson</td>\n",
       "      <td>117</td>\n",
       "      <td>Drama|Thriller</td>\n",
       "      <td>2015-10-16</td>\n",
       "      <td>1520</td>\n",
       "      <td>8.0</td>\n",
       "      <td>2015</td>\n",
       "    </tr>\n",
       "    <tr>\n",
       "      <th>629</th>\n",
       "      <td>157336</td>\n",
       "      <td>tt0816692</td>\n",
       "      <td>24.949134</td>\n",
       "      <td>165000000</td>\n",
       "      <td>621752480</td>\n",
       "      <td>Interstellar</td>\n",
       "      <td>Christopher Nolan</td>\n",
       "      <td>169</td>\n",
       "      <td>Adventure|Drama|Science Fiction</td>\n",
       "      <td>2014-11-05</td>\n",
       "      <td>6498</td>\n",
       "      <td>8.0</td>\n",
       "      <td>2014</td>\n",
       "    </tr>\n",
       "    <tr>\n",
       "      <th>636</th>\n",
       "      <td>205596</td>\n",
       "      <td>tt2084970</td>\n",
       "      <td>8.110711</td>\n",
       "      <td>14000000</td>\n",
       "      <td>233555708</td>\n",
       "      <td>The Imitation Game</td>\n",
       "      <td>Morten Tyldum</td>\n",
       "      <td>113</td>\n",
       "      <td>History|Drama|Thriller|War</td>\n",
       "      <td>2014-11-14</td>\n",
       "      <td>3478</td>\n",
       "      <td>8.0</td>\n",
       "      <td>2014</td>\n",
       "    </tr>\n",
       "    <tr>\n",
       "      <th>650</th>\n",
       "      <td>244786</td>\n",
       "      <td>tt2582802</td>\n",
       "      <td>4.780419</td>\n",
       "      <td>3300000</td>\n",
       "      <td>13993093</td>\n",
       "      <td>Whiplash</td>\n",
       "      <td>Damien Chazelle</td>\n",
       "      <td>105</td>\n",
       "      <td>Drama|Music</td>\n",
       "      <td>2014-10-10</td>\n",
       "      <td>2372</td>\n",
       "      <td>8.2</td>\n",
       "      <td>2014</td>\n",
       "    </tr>\n",
       "    <tr>\n",
       "      <th>2409</th>\n",
       "      <td>550</td>\n",
       "      <td>tt0137523</td>\n",
       "      <td>8.947905</td>\n",
       "      <td>63000000</td>\n",
       "      <td>100853753</td>\n",
       "      <td>Fight Club</td>\n",
       "      <td>David Fincher</td>\n",
       "      <td>139</td>\n",
       "      <td>Drama</td>\n",
       "      <td>1999-10-14</td>\n",
       "      <td>5923</td>\n",
       "      <td>8.1</td>\n",
       "      <td>1999</td>\n",
       "    </tr>\n",
       "    <tr>\n",
       "      <th>2414</th>\n",
       "      <td>497</td>\n",
       "      <td>tt0120689</td>\n",
       "      <td>2.719461</td>\n",
       "      <td>60000000</td>\n",
       "      <td>284600000</td>\n",
       "      <td>The Green Mile</td>\n",
       "      <td>Frank Darabont</td>\n",
       "      <td>189</td>\n",
       "      <td>Fantasy|Drama|Crime</td>\n",
       "      <td>1999-12-10</td>\n",
       "      <td>2299</td>\n",
       "      <td>8.0</td>\n",
       "      <td>1999</td>\n",
       "    </tr>\n",
       "    <tr>\n",
       "      <th>2875</th>\n",
       "      <td>155</td>\n",
       "      <td>tt0468569</td>\n",
       "      <td>8.466668</td>\n",
       "      <td>185000000</td>\n",
       "      <td>1001921825</td>\n",
       "      <td>The Dark Knight</td>\n",
       "      <td>Christopher Nolan</td>\n",
       "      <td>152</td>\n",
       "      <td>Drama|Action|Crime|Thriller</td>\n",
       "      <td>2008-07-16</td>\n",
       "      <td>8432</td>\n",
       "      <td>8.1</td>\n",
       "      <td>2008</td>\n",
       "    </tr>\n",
       "    <tr>\n",
       "      <th>4177</th>\n",
       "      <td>680</td>\n",
       "      <td>tt0110912</td>\n",
       "      <td>8.093754</td>\n",
       "      <td>8000000</td>\n",
       "      <td>213928762</td>\n",
       "      <td>Pulp Fiction</td>\n",
       "      <td>Quentin Tarantino</td>\n",
       "      <td>154</td>\n",
       "      <td>Thriller|Crime</td>\n",
       "      <td>1994-10-14</td>\n",
       "      <td>5343</td>\n",
       "      <td>8.1</td>\n",
       "      <td>1994</td>\n",
       "    </tr>\n",
       "    <tr>\n",
       "      <th>4178</th>\n",
       "      <td>278</td>\n",
       "      <td>tt0111161</td>\n",
       "      <td>7.192039</td>\n",
       "      <td>25000000</td>\n",
       "      <td>28341469</td>\n",
       "      <td>The Shawshank Redemption</td>\n",
       "      <td>Frank Darabont</td>\n",
       "      <td>142</td>\n",
       "      <td>Drama|Crime</td>\n",
       "      <td>1994-09-10</td>\n",
       "      <td>5754</td>\n",
       "      <td>8.4</td>\n",
       "      <td>1994</td>\n",
       "    </tr>\n",
       "    <tr>\n",
       "      <th>4179</th>\n",
       "      <td>13</td>\n",
       "      <td>tt0109830</td>\n",
       "      <td>6.715966</td>\n",
       "      <td>55000000</td>\n",
       "      <td>677945399</td>\n",
       "      <td>Forrest Gump</td>\n",
       "      <td>Robert Zemeckis</td>\n",
       "      <td>142</td>\n",
       "      <td>Comedy|Drama|Romance</td>\n",
       "      <td>1994-07-06</td>\n",
       "      <td>4856</td>\n",
       "      <td>8.1</td>\n",
       "      <td>1994</td>\n",
       "    </tr>\n",
       "    <tr>\n",
       "      <th>7269</th>\n",
       "      <td>238</td>\n",
       "      <td>tt0068646</td>\n",
       "      <td>5.738034</td>\n",
       "      <td>6000000</td>\n",
       "      <td>245066411</td>\n",
       "      <td>The Godfather</td>\n",
       "      <td>Francis Ford Coppola</td>\n",
       "      <td>175</td>\n",
       "      <td>Drama|Crime</td>\n",
       "      <td>1972-03-15</td>\n",
       "      <td>3970</td>\n",
       "      <td>8.3</td>\n",
       "      <td>1972</td>\n",
       "    </tr>\n",
       "    <tr>\n",
       "      <th>7309</th>\n",
       "      <td>1891</td>\n",
       "      <td>tt0080684</td>\n",
       "      <td>5.488441</td>\n",
       "      <td>18000000</td>\n",
       "      <td>538400000</td>\n",
       "      <td>The Empire Strikes Back</td>\n",
       "      <td>Irvin Kershner</td>\n",
       "      <td>124</td>\n",
       "      <td>Adventure|Action|Science Fiction</td>\n",
       "      <td>1980-01-01</td>\n",
       "      <td>3954</td>\n",
       "      <td>8.0</td>\n",
       "      <td>1980</td>\n",
       "    </tr>\n",
       "    <tr>\n",
       "      <th>8069</th>\n",
       "      <td>629</td>\n",
       "      <td>tt0114814</td>\n",
       "      <td>3.440238</td>\n",
       "      <td>6000000</td>\n",
       "      <td>23341568</td>\n",
       "      <td>The Usual Suspects</td>\n",
       "      <td>Bryan Singer</td>\n",
       "      <td>106</td>\n",
       "      <td>Drama|Crime|Thriller</td>\n",
       "      <td>1995-07-19</td>\n",
       "      <td>1942</td>\n",
       "      <td>8.0</td>\n",
       "      <td>1995</td>\n",
       "    </tr>\n",
       "    <tr>\n",
       "      <th>8987</th>\n",
       "      <td>73</td>\n",
       "      <td>tt0120586</td>\n",
       "      <td>1.333006</td>\n",
       "      <td>20000000</td>\n",
       "      <td>23875127</td>\n",
       "      <td>American History X</td>\n",
       "      <td>Tony Kaye</td>\n",
       "      <td>119</td>\n",
       "      <td>Drama</td>\n",
       "      <td>1998-10-30</td>\n",
       "      <td>1563</td>\n",
       "      <td>8.0</td>\n",
       "      <td>1998</td>\n",
       "    </tr>\n",
       "    <tr>\n",
       "      <th>9758</th>\n",
       "      <td>240</td>\n",
       "      <td>tt0071562</td>\n",
       "      <td>3.264571</td>\n",
       "      <td>13000000</td>\n",
       "      <td>47542841</td>\n",
       "      <td>The Godfather: Part II</td>\n",
       "      <td>Francis Ford Coppola</td>\n",
       "      <td>200</td>\n",
       "      <td>Drama|Crime</td>\n",
       "      <td>1974-12-20</td>\n",
       "      <td>2131</td>\n",
       "      <td>8.1</td>\n",
       "      <td>1974</td>\n",
       "    </tr>\n",
       "    <tr>\n",
       "      <th>9805</th>\n",
       "      <td>510</td>\n",
       "      <td>tt0073486</td>\n",
       "      <td>3.258151</td>\n",
       "      <td>3000000</td>\n",
       "      <td>108981275</td>\n",
       "      <td>One Flew Over the Cuckoo's Nest</td>\n",
       "      <td>MiloÅ¡ Forman</td>\n",
       "      <td>133</td>\n",
       "      <td>Drama</td>\n",
       "      <td>1975-11-18</td>\n",
       "      <td>1612</td>\n",
       "      <td>8.0</td>\n",
       "      <td>1975</td>\n",
       "    </tr>\n",
       "    <tr>\n",
       "      <th>9979</th>\n",
       "      <td>769</td>\n",
       "      <td>tt0099685</td>\n",
       "      <td>2.659926</td>\n",
       "      <td>25000000</td>\n",
       "      <td>46836394</td>\n",
       "      <td>Goodfellas</td>\n",
       "      <td>Martin Scorsese</td>\n",
       "      <td>146</td>\n",
       "      <td>Drama|Crime</td>\n",
       "      <td>1990-09-12</td>\n",
       "      <td>1798</td>\n",
       "      <td>8.0</td>\n",
       "      <td>1990</td>\n",
       "    </tr>\n",
       "    <tr>\n",
       "      <th>10141</th>\n",
       "      <td>539</td>\n",
       "      <td>tt0054215</td>\n",
       "      <td>2.610362</td>\n",
       "      <td>806948</td>\n",
       "      <td>32000000</td>\n",
       "      <td>Psycho</td>\n",
       "      <td>Alfred Hitchcock</td>\n",
       "      <td>109</td>\n",
       "      <td>Drama|Horror|Thriller</td>\n",
       "      <td>2060-08-14</td>\n",
       "      <td>1180</td>\n",
       "      <td>8.0</td>\n",
       "      <td>1960</td>\n",
       "    </tr>\n",
       "    <tr>\n",
       "      <th>10222</th>\n",
       "      <td>424</td>\n",
       "      <td>tt0108052</td>\n",
       "      <td>2.377288</td>\n",
       "      <td>22000000</td>\n",
       "      <td>321265768</td>\n",
       "      <td>Schindler's List</td>\n",
       "      <td>Steven Spielberg</td>\n",
       "      <td>195</td>\n",
       "      <td>Drama|History|War</td>\n",
       "      <td>1993-11-29</td>\n",
       "      <td>2632</td>\n",
       "      <td>8.1</td>\n",
       "      <td>1993</td>\n",
       "    </tr>\n",
       "  </tbody>\n",
       "</table>\n",
       "</div>"
      ],
      "text/plain": [
       "           id    imdb_id  popularity     budget     revenue  \\\n",
       "9      150540  tt2096673    6.326804  175000000   853708609   \n",
       "35     264644  tt3170832    3.557846    6000000    35401758   \n",
       "629    157336  tt0816692   24.949134  165000000   621752480   \n",
       "636    205596  tt2084970    8.110711   14000000   233555708   \n",
       "650    244786  tt2582802    4.780419    3300000    13993093   \n",
       "2409      550  tt0137523    8.947905   63000000   100853753   \n",
       "2414      497  tt0120689    2.719461   60000000   284600000   \n",
       "2875      155  tt0468569    8.466668  185000000  1001921825   \n",
       "4177      680  tt0110912    8.093754    8000000   213928762   \n",
       "4178      278  tt0111161    7.192039   25000000    28341469   \n",
       "4179       13  tt0109830    6.715966   55000000   677945399   \n",
       "7269      238  tt0068646    5.738034    6000000   245066411   \n",
       "7309     1891  tt0080684    5.488441   18000000   538400000   \n",
       "8069      629  tt0114814    3.440238    6000000    23341568   \n",
       "8987       73  tt0120586    1.333006   20000000    23875127   \n",
       "9758      240  tt0071562    3.264571   13000000    47542841   \n",
       "9805      510  tt0073486    3.258151    3000000   108981275   \n",
       "9979      769  tt0099685    2.659926   25000000    46836394   \n",
       "10141     539  tt0054215    2.610362     806948    32000000   \n",
       "10222     424  tt0108052    2.377288   22000000   321265768   \n",
       "\n",
       "                        original_title              director  runtime  \\\n",
       "9                           Inside Out           Pete Docter       94   \n",
       "35                                Room      Lenny Abrahamson      117   \n",
       "629                       Interstellar     Christopher Nolan      169   \n",
       "636                 The Imitation Game         Morten Tyldum      113   \n",
       "650                           Whiplash       Damien Chazelle      105   \n",
       "2409                        Fight Club         David Fincher      139   \n",
       "2414                    The Green Mile        Frank Darabont      189   \n",
       "2875                   The Dark Knight     Christopher Nolan      152   \n",
       "4177                      Pulp Fiction     Quentin Tarantino      154   \n",
       "4178          The Shawshank Redemption        Frank Darabont      142   \n",
       "4179                      Forrest Gump       Robert Zemeckis      142   \n",
       "7269                     The Godfather  Francis Ford Coppola      175   \n",
       "7309           The Empire Strikes Back        Irvin Kershner      124   \n",
       "8069                The Usual Suspects          Bryan Singer      106   \n",
       "8987                American History X             Tony Kaye      119   \n",
       "9758            The Godfather: Part II  Francis Ford Coppola      200   \n",
       "9805   One Flew Over the Cuckoo's Nest         MiloÅ¡ Forman      133   \n",
       "9979                        Goodfellas       Martin Scorsese      146   \n",
       "10141                           Psycho      Alfred Hitchcock      109   \n",
       "10222                 Schindler's List      Steven Spielberg      195   \n",
       "\n",
       "                                 genres release_date  vote_count  \\\n",
       "9               Comedy|Animation|Family   2015-06-09        3935   \n",
       "35                       Drama|Thriller   2015-10-16        1520   \n",
       "629     Adventure|Drama|Science Fiction   2014-11-05        6498   \n",
       "636          History|Drama|Thriller|War   2014-11-14        3478   \n",
       "650                         Drama|Music   2014-10-10        2372   \n",
       "2409                              Drama   1999-10-14        5923   \n",
       "2414                Fantasy|Drama|Crime   1999-12-10        2299   \n",
       "2875        Drama|Action|Crime|Thriller   2008-07-16        8432   \n",
       "4177                     Thriller|Crime   1994-10-14        5343   \n",
       "4178                        Drama|Crime   1994-09-10        5754   \n",
       "4179               Comedy|Drama|Romance   1994-07-06        4856   \n",
       "7269                        Drama|Crime   1972-03-15        3970   \n",
       "7309   Adventure|Action|Science Fiction   1980-01-01        3954   \n",
       "8069               Drama|Crime|Thriller   1995-07-19        1942   \n",
       "8987                              Drama   1998-10-30        1563   \n",
       "9758                        Drama|Crime   1974-12-20        2131   \n",
       "9805                              Drama   1975-11-18        1612   \n",
       "9979                        Drama|Crime   1990-09-12        1798   \n",
       "10141             Drama|Horror|Thriller   2060-08-14        1180   \n",
       "10222                 Drama|History|War   1993-11-29        2632   \n",
       "\n",
       "       vote_average  release_year  \n",
       "9               8.0          2015  \n",
       "35              8.0          2015  \n",
       "629             8.0          2014  \n",
       "636             8.0          2014  \n",
       "650             8.2          2014  \n",
       "2409            8.1          1999  \n",
       "2414            8.0          1999  \n",
       "2875            8.1          2008  \n",
       "4177            8.1          1994  \n",
       "4178            8.4          1994  \n",
       "4179            8.1          1994  \n",
       "7269            8.3          1972  \n",
       "7309            8.0          1980  \n",
       "8069            8.0          1995  \n",
       "8987            8.0          1998  \n",
       "9758            8.1          1974  \n",
       "9805            8.0          1975  \n",
       "9979            8.0          1990  \n",
       "10141           8.0          1960  \n",
       "10222           8.1          1993  "
      ]
     },
     "execution_count": 53,
     "metadata": {},
     "output_type": "execute_result"
    }
   ],
   "source": [
    "top_rated = clean_df[(clean_df.vote_average > 7.9) & (clean_df.vote_count > 1000)]\n",
    "top_rated"
   ]
  },
  {
   "cell_type": "markdown",
   "metadata": {},
   "source": [
    "- Getting a look about the mean and the max vote_average for the top movies."
   ]
  },
  {
   "cell_type": "code",
   "execution_count": 54,
   "metadata": {
    "collapsed": false
   },
   "outputs": [
    {
     "data": {
      "text/plain": [
       "count    20.000000\n",
       "mean      8.075000\n",
       "std       0.111803\n",
       "min       8.000000\n",
       "25%       8.000000\n",
       "50%       8.000000\n",
       "75%       8.100000\n",
       "max       8.400000\n",
       "Name: vote_average, dtype: float64"
      ]
     },
     "execution_count": 54,
     "metadata": {},
     "output_type": "execute_result"
    }
   ],
   "source": [
    "top_rated.vote_average.describe()"
   ]
  },
  {
   "cell_type": "markdown",
   "metadata": {},
   "source": [
    "- Splitting the genres cloumn values and take the first index (which is the main genre of the movie)"
   ]
  },
  {
   "cell_type": "code",
   "execution_count": 55,
   "metadata": {
    "collapsed": false
   },
   "outputs": [
    {
     "name": "stderr",
     "output_type": "stream",
     "text": [
      "C:\\Program Files\\Anaconda3\\lib\\site-packages\\ipykernel\\__main__.py:1: SettingWithCopyWarning: \n",
      "A value is trying to be set on a copy of a slice from a DataFrame.\n",
      "Try using .loc[row_indexer,col_indexer] = value instead\n",
      "\n",
      "See the caveats in the documentation: http://pandas.pydata.org/pandas-docs/stable/indexing.html#indexing-view-versus-copy\n",
      "  if __name__ == '__main__':\n"
     ]
    },
    {
     "data": {
      "text/html": [
       "<div>\n",
       "<style scoped>\n",
       "    .dataframe tbody tr th:only-of-type {\n",
       "        vertical-align: middle;\n",
       "    }\n",
       "\n",
       "    .dataframe tbody tr th {\n",
       "        vertical-align: top;\n",
       "    }\n",
       "\n",
       "    .dataframe thead th {\n",
       "        text-align: right;\n",
       "    }\n",
       "</style>\n",
       "<table border=\"1\" class=\"dataframe\">\n",
       "  <thead>\n",
       "    <tr style=\"text-align: right;\">\n",
       "      <th></th>\n",
       "      <th>id</th>\n",
       "      <th>imdb_id</th>\n",
       "      <th>popularity</th>\n",
       "      <th>budget</th>\n",
       "      <th>revenue</th>\n",
       "      <th>original_title</th>\n",
       "      <th>director</th>\n",
       "      <th>runtime</th>\n",
       "      <th>genres</th>\n",
       "      <th>release_date</th>\n",
       "      <th>vote_count</th>\n",
       "      <th>vote_average</th>\n",
       "      <th>release_year</th>\n",
       "    </tr>\n",
       "  </thead>\n",
       "  <tbody>\n",
       "    <tr>\n",
       "      <th>9</th>\n",
       "      <td>150540</td>\n",
       "      <td>tt2096673</td>\n",
       "      <td>6.326804</td>\n",
       "      <td>175000000</td>\n",
       "      <td>853708609</td>\n",
       "      <td>Inside Out</td>\n",
       "      <td>Pete Docter</td>\n",
       "      <td>94</td>\n",
       "      <td>Comedy</td>\n",
       "      <td>2015-06-09</td>\n",
       "      <td>3935</td>\n",
       "      <td>8.0</td>\n",
       "      <td>2015</td>\n",
       "    </tr>\n",
       "    <tr>\n",
       "      <th>35</th>\n",
       "      <td>264644</td>\n",
       "      <td>tt3170832</td>\n",
       "      <td>3.557846</td>\n",
       "      <td>6000000</td>\n",
       "      <td>35401758</td>\n",
       "      <td>Room</td>\n",
       "      <td>Lenny Abrahamson</td>\n",
       "      <td>117</td>\n",
       "      <td>Drama</td>\n",
       "      <td>2015-10-16</td>\n",
       "      <td>1520</td>\n",
       "      <td>8.0</td>\n",
       "      <td>2015</td>\n",
       "    </tr>\n",
       "    <tr>\n",
       "      <th>629</th>\n",
       "      <td>157336</td>\n",
       "      <td>tt0816692</td>\n",
       "      <td>24.949134</td>\n",
       "      <td>165000000</td>\n",
       "      <td>621752480</td>\n",
       "      <td>Interstellar</td>\n",
       "      <td>Christopher Nolan</td>\n",
       "      <td>169</td>\n",
       "      <td>Adventure</td>\n",
       "      <td>2014-11-05</td>\n",
       "      <td>6498</td>\n",
       "      <td>8.0</td>\n",
       "      <td>2014</td>\n",
       "    </tr>\n",
       "    <tr>\n",
       "      <th>636</th>\n",
       "      <td>205596</td>\n",
       "      <td>tt2084970</td>\n",
       "      <td>8.110711</td>\n",
       "      <td>14000000</td>\n",
       "      <td>233555708</td>\n",
       "      <td>The Imitation Game</td>\n",
       "      <td>Morten Tyldum</td>\n",
       "      <td>113</td>\n",
       "      <td>History</td>\n",
       "      <td>2014-11-14</td>\n",
       "      <td>3478</td>\n",
       "      <td>8.0</td>\n",
       "      <td>2014</td>\n",
       "    </tr>\n",
       "    <tr>\n",
       "      <th>650</th>\n",
       "      <td>244786</td>\n",
       "      <td>tt2582802</td>\n",
       "      <td>4.780419</td>\n",
       "      <td>3300000</td>\n",
       "      <td>13993093</td>\n",
       "      <td>Whiplash</td>\n",
       "      <td>Damien Chazelle</td>\n",
       "      <td>105</td>\n",
       "      <td>Drama</td>\n",
       "      <td>2014-10-10</td>\n",
       "      <td>2372</td>\n",
       "      <td>8.2</td>\n",
       "      <td>2014</td>\n",
       "    </tr>\n",
       "    <tr>\n",
       "      <th>2409</th>\n",
       "      <td>550</td>\n",
       "      <td>tt0137523</td>\n",
       "      <td>8.947905</td>\n",
       "      <td>63000000</td>\n",
       "      <td>100853753</td>\n",
       "      <td>Fight Club</td>\n",
       "      <td>David Fincher</td>\n",
       "      <td>139</td>\n",
       "      <td>Drama</td>\n",
       "      <td>1999-10-14</td>\n",
       "      <td>5923</td>\n",
       "      <td>8.1</td>\n",
       "      <td>1999</td>\n",
       "    </tr>\n",
       "    <tr>\n",
       "      <th>2414</th>\n",
       "      <td>497</td>\n",
       "      <td>tt0120689</td>\n",
       "      <td>2.719461</td>\n",
       "      <td>60000000</td>\n",
       "      <td>284600000</td>\n",
       "      <td>The Green Mile</td>\n",
       "      <td>Frank Darabont</td>\n",
       "      <td>189</td>\n",
       "      <td>Fantasy</td>\n",
       "      <td>1999-12-10</td>\n",
       "      <td>2299</td>\n",
       "      <td>8.0</td>\n",
       "      <td>1999</td>\n",
       "    </tr>\n",
       "    <tr>\n",
       "      <th>2875</th>\n",
       "      <td>155</td>\n",
       "      <td>tt0468569</td>\n",
       "      <td>8.466668</td>\n",
       "      <td>185000000</td>\n",
       "      <td>1001921825</td>\n",
       "      <td>The Dark Knight</td>\n",
       "      <td>Christopher Nolan</td>\n",
       "      <td>152</td>\n",
       "      <td>Drama</td>\n",
       "      <td>2008-07-16</td>\n",
       "      <td>8432</td>\n",
       "      <td>8.1</td>\n",
       "      <td>2008</td>\n",
       "    </tr>\n",
       "    <tr>\n",
       "      <th>4177</th>\n",
       "      <td>680</td>\n",
       "      <td>tt0110912</td>\n",
       "      <td>8.093754</td>\n",
       "      <td>8000000</td>\n",
       "      <td>213928762</td>\n",
       "      <td>Pulp Fiction</td>\n",
       "      <td>Quentin Tarantino</td>\n",
       "      <td>154</td>\n",
       "      <td>Thriller</td>\n",
       "      <td>1994-10-14</td>\n",
       "      <td>5343</td>\n",
       "      <td>8.1</td>\n",
       "      <td>1994</td>\n",
       "    </tr>\n",
       "    <tr>\n",
       "      <th>4178</th>\n",
       "      <td>278</td>\n",
       "      <td>tt0111161</td>\n",
       "      <td>7.192039</td>\n",
       "      <td>25000000</td>\n",
       "      <td>28341469</td>\n",
       "      <td>The Shawshank Redemption</td>\n",
       "      <td>Frank Darabont</td>\n",
       "      <td>142</td>\n",
       "      <td>Drama</td>\n",
       "      <td>1994-09-10</td>\n",
       "      <td>5754</td>\n",
       "      <td>8.4</td>\n",
       "      <td>1994</td>\n",
       "    </tr>\n",
       "    <tr>\n",
       "      <th>4179</th>\n",
       "      <td>13</td>\n",
       "      <td>tt0109830</td>\n",
       "      <td>6.715966</td>\n",
       "      <td>55000000</td>\n",
       "      <td>677945399</td>\n",
       "      <td>Forrest Gump</td>\n",
       "      <td>Robert Zemeckis</td>\n",
       "      <td>142</td>\n",
       "      <td>Comedy</td>\n",
       "      <td>1994-07-06</td>\n",
       "      <td>4856</td>\n",
       "      <td>8.1</td>\n",
       "      <td>1994</td>\n",
       "    </tr>\n",
       "    <tr>\n",
       "      <th>7269</th>\n",
       "      <td>238</td>\n",
       "      <td>tt0068646</td>\n",
       "      <td>5.738034</td>\n",
       "      <td>6000000</td>\n",
       "      <td>245066411</td>\n",
       "      <td>The Godfather</td>\n",
       "      <td>Francis Ford Coppola</td>\n",
       "      <td>175</td>\n",
       "      <td>Drama</td>\n",
       "      <td>1972-03-15</td>\n",
       "      <td>3970</td>\n",
       "      <td>8.3</td>\n",
       "      <td>1972</td>\n",
       "    </tr>\n",
       "    <tr>\n",
       "      <th>7309</th>\n",
       "      <td>1891</td>\n",
       "      <td>tt0080684</td>\n",
       "      <td>5.488441</td>\n",
       "      <td>18000000</td>\n",
       "      <td>538400000</td>\n",
       "      <td>The Empire Strikes Back</td>\n",
       "      <td>Irvin Kershner</td>\n",
       "      <td>124</td>\n",
       "      <td>Adventure</td>\n",
       "      <td>1980-01-01</td>\n",
       "      <td>3954</td>\n",
       "      <td>8.0</td>\n",
       "      <td>1980</td>\n",
       "    </tr>\n",
       "    <tr>\n",
       "      <th>8069</th>\n",
       "      <td>629</td>\n",
       "      <td>tt0114814</td>\n",
       "      <td>3.440238</td>\n",
       "      <td>6000000</td>\n",
       "      <td>23341568</td>\n",
       "      <td>The Usual Suspects</td>\n",
       "      <td>Bryan Singer</td>\n",
       "      <td>106</td>\n",
       "      <td>Drama</td>\n",
       "      <td>1995-07-19</td>\n",
       "      <td>1942</td>\n",
       "      <td>8.0</td>\n",
       "      <td>1995</td>\n",
       "    </tr>\n",
       "    <tr>\n",
       "      <th>8987</th>\n",
       "      <td>73</td>\n",
       "      <td>tt0120586</td>\n",
       "      <td>1.333006</td>\n",
       "      <td>20000000</td>\n",
       "      <td>23875127</td>\n",
       "      <td>American History X</td>\n",
       "      <td>Tony Kaye</td>\n",
       "      <td>119</td>\n",
       "      <td>Drama</td>\n",
       "      <td>1998-10-30</td>\n",
       "      <td>1563</td>\n",
       "      <td>8.0</td>\n",
       "      <td>1998</td>\n",
       "    </tr>\n",
       "    <tr>\n",
       "      <th>9758</th>\n",
       "      <td>240</td>\n",
       "      <td>tt0071562</td>\n",
       "      <td>3.264571</td>\n",
       "      <td>13000000</td>\n",
       "      <td>47542841</td>\n",
       "      <td>The Godfather: Part II</td>\n",
       "      <td>Francis Ford Coppola</td>\n",
       "      <td>200</td>\n",
       "      <td>Drama</td>\n",
       "      <td>1974-12-20</td>\n",
       "      <td>2131</td>\n",
       "      <td>8.1</td>\n",
       "      <td>1974</td>\n",
       "    </tr>\n",
       "    <tr>\n",
       "      <th>9805</th>\n",
       "      <td>510</td>\n",
       "      <td>tt0073486</td>\n",
       "      <td>3.258151</td>\n",
       "      <td>3000000</td>\n",
       "      <td>108981275</td>\n",
       "      <td>One Flew Over the Cuckoo's Nest</td>\n",
       "      <td>MiloÅ¡ Forman</td>\n",
       "      <td>133</td>\n",
       "      <td>Drama</td>\n",
       "      <td>1975-11-18</td>\n",
       "      <td>1612</td>\n",
       "      <td>8.0</td>\n",
       "      <td>1975</td>\n",
       "    </tr>\n",
       "    <tr>\n",
       "      <th>9979</th>\n",
       "      <td>769</td>\n",
       "      <td>tt0099685</td>\n",
       "      <td>2.659926</td>\n",
       "      <td>25000000</td>\n",
       "      <td>46836394</td>\n",
       "      <td>Goodfellas</td>\n",
       "      <td>Martin Scorsese</td>\n",
       "      <td>146</td>\n",
       "      <td>Drama</td>\n",
       "      <td>1990-09-12</td>\n",
       "      <td>1798</td>\n",
       "      <td>8.0</td>\n",
       "      <td>1990</td>\n",
       "    </tr>\n",
       "    <tr>\n",
       "      <th>10141</th>\n",
       "      <td>539</td>\n",
       "      <td>tt0054215</td>\n",
       "      <td>2.610362</td>\n",
       "      <td>806948</td>\n",
       "      <td>32000000</td>\n",
       "      <td>Psycho</td>\n",
       "      <td>Alfred Hitchcock</td>\n",
       "      <td>109</td>\n",
       "      <td>Drama</td>\n",
       "      <td>2060-08-14</td>\n",
       "      <td>1180</td>\n",
       "      <td>8.0</td>\n",
       "      <td>1960</td>\n",
       "    </tr>\n",
       "    <tr>\n",
       "      <th>10222</th>\n",
       "      <td>424</td>\n",
       "      <td>tt0108052</td>\n",
       "      <td>2.377288</td>\n",
       "      <td>22000000</td>\n",
       "      <td>321265768</td>\n",
       "      <td>Schindler's List</td>\n",
       "      <td>Steven Spielberg</td>\n",
       "      <td>195</td>\n",
       "      <td>Drama</td>\n",
       "      <td>1993-11-29</td>\n",
       "      <td>2632</td>\n",
       "      <td>8.1</td>\n",
       "      <td>1993</td>\n",
       "    </tr>\n",
       "  </tbody>\n",
       "</table>\n",
       "</div>"
      ],
      "text/plain": [
       "           id    imdb_id  popularity     budget     revenue  \\\n",
       "9      150540  tt2096673    6.326804  175000000   853708609   \n",
       "35     264644  tt3170832    3.557846    6000000    35401758   \n",
       "629    157336  tt0816692   24.949134  165000000   621752480   \n",
       "636    205596  tt2084970    8.110711   14000000   233555708   \n",
       "650    244786  tt2582802    4.780419    3300000    13993093   \n",
       "2409      550  tt0137523    8.947905   63000000   100853753   \n",
       "2414      497  tt0120689    2.719461   60000000   284600000   \n",
       "2875      155  tt0468569    8.466668  185000000  1001921825   \n",
       "4177      680  tt0110912    8.093754    8000000   213928762   \n",
       "4178      278  tt0111161    7.192039   25000000    28341469   \n",
       "4179       13  tt0109830    6.715966   55000000   677945399   \n",
       "7269      238  tt0068646    5.738034    6000000   245066411   \n",
       "7309     1891  tt0080684    5.488441   18000000   538400000   \n",
       "8069      629  tt0114814    3.440238    6000000    23341568   \n",
       "8987       73  tt0120586    1.333006   20000000    23875127   \n",
       "9758      240  tt0071562    3.264571   13000000    47542841   \n",
       "9805      510  tt0073486    3.258151    3000000   108981275   \n",
       "9979      769  tt0099685    2.659926   25000000    46836394   \n",
       "10141     539  tt0054215    2.610362     806948    32000000   \n",
       "10222     424  tt0108052    2.377288   22000000   321265768   \n",
       "\n",
       "                        original_title              director  runtime  \\\n",
       "9                           Inside Out           Pete Docter       94   \n",
       "35                                Room      Lenny Abrahamson      117   \n",
       "629                       Interstellar     Christopher Nolan      169   \n",
       "636                 The Imitation Game         Morten Tyldum      113   \n",
       "650                           Whiplash       Damien Chazelle      105   \n",
       "2409                        Fight Club         David Fincher      139   \n",
       "2414                    The Green Mile        Frank Darabont      189   \n",
       "2875                   The Dark Knight     Christopher Nolan      152   \n",
       "4177                      Pulp Fiction     Quentin Tarantino      154   \n",
       "4178          The Shawshank Redemption        Frank Darabont      142   \n",
       "4179                      Forrest Gump       Robert Zemeckis      142   \n",
       "7269                     The Godfather  Francis Ford Coppola      175   \n",
       "7309           The Empire Strikes Back        Irvin Kershner      124   \n",
       "8069                The Usual Suspects          Bryan Singer      106   \n",
       "8987                American History X             Tony Kaye      119   \n",
       "9758            The Godfather: Part II  Francis Ford Coppola      200   \n",
       "9805   One Flew Over the Cuckoo's Nest         MiloÅ¡ Forman      133   \n",
       "9979                        Goodfellas       Martin Scorsese      146   \n",
       "10141                           Psycho      Alfred Hitchcock      109   \n",
       "10222                 Schindler's List      Steven Spielberg      195   \n",
       "\n",
       "          genres release_date  vote_count  vote_average  release_year  \n",
       "9         Comedy   2015-06-09        3935           8.0          2015  \n",
       "35         Drama   2015-10-16        1520           8.0          2015  \n",
       "629    Adventure   2014-11-05        6498           8.0          2014  \n",
       "636      History   2014-11-14        3478           8.0          2014  \n",
       "650        Drama   2014-10-10        2372           8.2          2014  \n",
       "2409       Drama   1999-10-14        5923           8.1          1999  \n",
       "2414     Fantasy   1999-12-10        2299           8.0          1999  \n",
       "2875       Drama   2008-07-16        8432           8.1          2008  \n",
       "4177    Thriller   1994-10-14        5343           8.1          1994  \n",
       "4178       Drama   1994-09-10        5754           8.4          1994  \n",
       "4179      Comedy   1994-07-06        4856           8.1          1994  \n",
       "7269       Drama   1972-03-15        3970           8.3          1972  \n",
       "7309   Adventure   1980-01-01        3954           8.0          1980  \n",
       "8069       Drama   1995-07-19        1942           8.0          1995  \n",
       "8987       Drama   1998-10-30        1563           8.0          1998  \n",
       "9758       Drama   1974-12-20        2131           8.1          1974  \n",
       "9805       Drama   1975-11-18        1612           8.0          1975  \n",
       "9979       Drama   1990-09-12        1798           8.0          1990  \n",
       "10141      Drama   2060-08-14        1180           8.0          1960  \n",
       "10222      Drama   1993-11-29        2632           8.1          1993  "
      ]
     },
     "execution_count": 55,
     "metadata": {},
     "output_type": "execute_result"
    }
   ],
   "source": [
    "top_rated[\"genres\"] = top_rated.genres.str.split('|').str[0]\n",
    "top_rated"
   ]
  },
  {
   "cell_type": "markdown",
   "metadata": {},
   "source": [
    "- Getting info about average budget of them."
   ]
  },
  {
   "cell_type": "code",
   "execution_count": 56,
   "metadata": {
    "collapsed": false
   },
   "outputs": [
    {
     "data": {
      "text/plain": [
       "43655347.4"
      ]
     },
     "execution_count": 56,
     "metadata": {},
     "output_type": "execute_result"
    }
   ],
   "source": [
    "top_rated.budget.mean()"
   ]
  },
  {
   "cell_type": "markdown",
   "metadata": {},
   "source": [
    "- Getting info about average revenue of them."
   ]
  },
  {
   "cell_type": "code",
   "execution_count": 57,
   "metadata": {
    "collapsed": false
   },
   "outputs": [
    {
     "data": {
      "text/plain": [
       "272665612.0"
      ]
     },
     "execution_count": 57,
     "metadata": {},
     "output_type": "execute_result"
    }
   ],
   "source": [
    "top_rated.revenue.mean()"
   ]
  },
  {
   "cell_type": "markdown",
   "metadata": {},
   "source": [
    "- Getting info about average run time of them."
   ]
  },
  {
   "cell_type": "code",
   "execution_count": 58,
   "metadata": {
    "collapsed": false
   },
   "outputs": [
    {
     "data": {
      "text/plain": [
       "141.15"
      ]
     },
     "execution_count": 58,
     "metadata": {},
     "output_type": "execute_result"
    }
   ],
   "source": [
    "top_rated.runtime.mean()"
   ]
  },
  {
   "cell_type": "markdown",
   "metadata": {},
   "source": [
    "- find the years that have more top movies than the others."
   ]
  },
  {
   "cell_type": "code",
   "execution_count": 59,
   "metadata": {
    "collapsed": false
   },
   "outputs": [
    {
     "data": {
      "text/plain": [
       "0    1994\n",
       "1    2014\n",
       "dtype: int64"
      ]
     },
     "execution_count": 59,
     "metadata": {},
     "output_type": "execute_result"
    }
   ],
   "source": [
    "top_rated.release_year.mode()"
   ]
  },
  {
   "cell_type": "markdown",
   "metadata": {},
   "source": [
    "- 1994 and 2014 was awesome years every year got 3 top movies."
   ]
  },
  {
   "cell_type": "code",
   "execution_count": 60,
   "metadata": {
    "collapsed": false
   },
   "outputs": [
    {
     "data": {
      "image/png": "[encoded data removed]",
      "text/plain": [
       "<matplotlib.figure.Figure at 0xb64e3c8>"
      ]
     },
     "metadata": {},
     "output_type": "display_data"
    }
   ],
   "source": [
    "top_rated.plot(x= \"original_title\",y = \"vote_average\" , kind=\"bar\") ;\n",
    "plt.xlabel(\"Movie Title\" ,fontsize = 15)\n",
    "plt.ylabel(\"Vote Average\",fontsize = 15)\n",
    "plt.title(\"Vote score average for 20 top movies\",fontsize = 15);"
   ]
  },
  {
   "cell_type": "markdown",
   "metadata": {},
   "source": [
    "- It appeats that was the top movie got vote score which is 8.4 was (The Shawshank Redemption)."
   ]
  },
  {
   "cell_type": "code",
   "execution_count": 61,
   "metadata": {
    "collapsed": false
   },
   "outputs": [
    {
     "data": {
      "image/png": "[encoded data removed]",
      "text/plain": [
       "<matplotlib.figure.Figure at 0x8869940>"
      ]
     },
     "metadata": {},
     "output_type": "display_data"
    }
   ],
   "source": [
    "top_rated.plot(x= \"original_title\",y = \"vote_count\" , kind=\"bar\") ;\n",
    "plt.xlabel(\"Movie Title\" ,fontsize = 15)\n",
    "plt.ylabel(\"Vote Counts\",fontsize = 15)\n",
    "plt.title(\"Number of counts of each 20 top movies\",fontsize = 15);"
   ]
  },
  {
   "cell_type": "markdown",
   "metadata": {},
   "source": [
    "- The film that got most vote counts is (The Dark Knight), after it (Intersteller)."
   ]
  },
  {
   "cell_type": "code",
   "execution_count": 62,
   "metadata": {
    "collapsed": false
   },
   "outputs": [
    {
     "data": {
      "image/png": "[encoded data removed]",
      "text/plain": [
       "<matplotlib.figure.Figure at 0x89f0588>"
      ]
     },
     "metadata": {},
     "output_type": "display_data"
    }
   ],
   "source": [
    "top_rated.plot(x= \"director\",y = \"vote_average\" , kind=\"bar\") ;\n",
    "plt.xlabel(\"Directors\" ,fontsize = 15)\n",
    "plt.ylabel(\"Vote Avrage\",fontsize = 15)\n",
    "plt.title(\"Vote score average for directors 20 top movies\",fontsize = 15);"
   ]
  },
  {
   "cell_type": "markdown",
   "metadata": {},
   "source": [
    "- Frank Darabont was the most dirctor to got highest voting score."
   ]
  },
  {
   "cell_type": "code",
   "execution_count": 63,
   "metadata": {
    "collapsed": false
   },
   "outputs": [
    {
     "data": {
      "image/png": "[encoded data removed]",
      "text/plain": [
       "<matplotlib.figure.Figure at 0x8b4c7b8>"
      ]
     },
     "metadata": {},
     "output_type": "display_data"
    }
   ],
   "source": [
    "top_rated[\"genres\"].hist();\n",
    "plt.xlabel(\"Geners\" ,fontsize = 15)\n",
    "plt.ylabel(\"Geners count\",fontsize = 15)\n",
    "plt.title(\"genres count in top 20 movie\",fontsize = 15);"
   ]
  },
  {
   "cell_type": "markdown",
   "metadata": {},
   "source": [
    "- Drama is the most gener in the top 20 movies, Intresting."
   ]
  },
  {
   "cell_type": "code",
   "execution_count": 64,
   "metadata": {
    "collapsed": false
   },
   "outputs": [
    {
     "data": {
      "image/png": "[encoded data removed]",
      "text/plain": [
       "<matplotlib.figure.Figure at 0x8b15438>"
      ]
     },
     "metadata": {},
     "output_type": "display_data"
    }
   ],
   "source": [
    "top_rated[\"director\"].value_counts().plot.barh();\n",
    "plt.xlabel(\"Number of movies\" ,fontsize = 15)\n",
    "plt.ylabel(\"Directors\",fontsize = 15)\n",
    "plt.title(\"Number of movies for each director\",fontsize = 15);"
   ]
  },
  {
   "cell_type": "markdown",
   "metadata": {},
   "source": [
    "- Frank Darabont , Franicis Ford and Christopher Nolan every one of these directors got 2 movies in the top 20."
   ]
  },
  {
   "cell_type": "code",
   "execution_count": 65,
   "metadata": {
    "collapsed": false
   },
   "outputs": [
    {
     "data": {
      "image/png": "[encoded data removed]",
      "text/plain": [
       "<matplotlib.figure.Figure at 0x8c0c208>"
      ]
     },
     "metadata": {},
     "output_type": "display_data"
    }
   ],
   "source": [
    "top_rated.plot(x= \"original_title\",y = \"revenue\" , kind=\"bar\") ;\n",
    "plt.xlabel(\"Movie Title\" ,fontsize = 15)\n",
    "plt.ylabel(\"Revenue\",fontsize = 15)\n",
    "plt.title(\"Revenue for the 20 top movies\",fontsize = 15);"
   ]
  },
  {
   "cell_type": "markdown",
   "metadata": {},
   "source": [
    "- The Dark knight had the most revenue."
   ]
  },
  {
   "cell_type": "code",
   "execution_count": 66,
   "metadata": {
    "collapsed": false
   },
   "outputs": [
    {
     "data": {
      "image/png": "[encoded data removed]",
      "text/plain": [
       "<matplotlib.figure.Figure at 0xc758470>"
      ]
     },
     "metadata": {},
     "output_type": "display_data"
    }
   ],
   "source": [
    "top_rated.plot(x= \"original_title\",y = \"budget\" , kind=\"bar\") ;\n",
    "plt.xlabel(\"Movie Title\" ,fontsize = 15)\n",
    "plt.ylabel(\"Budget\",fontsize = 15)\n",
    "plt.title(\"Budgets for the 20 top movies\",fontsize = 15);"
   ]
  },
  {
   "cell_type": "markdown",
   "metadata": {},
   "source": [
    "- once again (The Dark knight) got the most budget in the top 20s."
   ]
  },
  {
   "cell_type": "code",
   "execution_count": 67,
   "metadata": {
    "collapsed": false
   },
   "outputs": [
    {
     "name": "stderr",
     "output_type": "stream",
     "text": [
      "C:\\Program Files\\Anaconda3\\lib\\site-packages\\ipykernel\\__main__.py:1: SettingWithCopyWarning: \n",
      "A value is trying to be set on a copy of a slice from a DataFrame.\n",
      "Try using .loc[row_indexer,col_indexer] = value instead\n",
      "\n",
      "See the caveats in the documentation: http://pandas.pydata.org/pandas-docs/stable/indexing.html#indexing-view-versus-copy\n",
      "  if __name__ == '__main__':\n"
     ]
    }
   ],
   "source": [
    "top_rated[\"profit\"] = top_rated[\"revenue\"] - top_rated[\"budget\"]"
   ]
  },
  {
   "cell_type": "markdown",
   "metadata": {},
   "source": [
    "> Made a new column profit which calculate the difference between revenue and budget"
   ]
  },
  {
   "cell_type": "code",
   "execution_count": 68,
   "metadata": {
    "collapsed": false
   },
   "outputs": [
    {
     "data": {
      "image/png": "[encoded data removed]",
      "text/plain": [
       "<matplotlib.figure.Figure at 0xc78bb70>"
      ]
     },
     "metadata": {},
     "output_type": "display_data"
    }
   ],
   "source": [
    "top_rated.plot(x= \"original_title\",y = \"profit\" , kind=\"bar\") ;\n",
    "plt.xlabel(\"Movie Title\" ,fontsize = 15)\n",
    "plt.ylabel(\"Profit\",fontsize = 15)\n",
    "plt.title(\"Profits for the 20 top movies\",fontsize = 15);"
   ]
  },
  {
   "cell_type": "markdown",
   "metadata": {},
   "source": [
    "- At last , seems that The Dark Knight is the black horse of the top 20 movies, My fav movie ever."
   ]
  },
  {
   "cell_type": "code",
   "execution_count": 69,
   "metadata": {
    "collapsed": false
   },
   "outputs": [
    {
     "data": {
      "text/plain": [
       "count      20.000000\n",
       "mean     3559.600000\n",
       "std      2017.437024\n",
       "min      1180.000000\n",
       "25%      1906.000000\n",
       "50%      3055.000000\n",
       "75%      4977.750000\n",
       "max      8432.000000\n",
       "Name: vote_count, dtype: float64"
      ]
     },
     "execution_count": 69,
     "metadata": {},
     "output_type": "execute_result"
    }
   ],
   "source": [
    "top_rated.vote_count.describe()"
   ]
  },
  {
   "cell_type": "code",
   "execution_count": 70,
   "metadata": {
    "collapsed": false
   },
   "outputs": [
    {
     "data": {
      "image/png": "[encoded data removed]",
      "text/plain": [
       "<matplotlib.figure.Figure at 0xc750a58>"
      ]
     },
     "metadata": {},
     "output_type": "display_data"
    }
   ],
   "source": [
    "vote_counts = top_rated[\"vote_count\"]\n",
    "plt.figure(figsize= (22,10),dpi = 150)\n",
    "plt.xlabel(\"vote_count\" ,fontsize = 20)\n",
    "plt.title(\"Vote Counts Distribution in Top 20 rated movies\",fontsize = 20)\n",
    "sns.boxplot(vote_counts) ;"
   ]
  },
  {
   "cell_type": "markdown",
   "metadata": {},
   "source": [
    "- The vote counts distribution appears that the minimum counts 1180 votes and the maximum 8432 Votes.\n",
    " > when Q1 of votes is 1906\n",
    "\n",
    " > when Q2(median) of votes is 3055.\n",
    "\n",
    " > when Q3 of votes is 4977.\n",
    "\n",
    "- IQR range from 1906 vote to 4977."
   ]
  },
  {
   "cell_type": "markdown",
   "metadata": {},
   "source": [
    "### Research Question 2  (What are genres that audience prefer the most?)"
   ]
  },
  {
   "cell_type": "markdown",
   "metadata": {},
   "source": [
    "- Getting some info about the data set."
   ]
  },
  {
   "cell_type": "code",
   "execution_count": 71,
   "metadata": {
    "collapsed": false
   },
   "outputs": [
    {
     "data": {
      "text/html": [
       "<div>\n",
       "<style scoped>\n",
       "    .dataframe tbody tr th:only-of-type {\n",
       "        vertical-align: middle;\n",
       "    }\n",
       "\n",
       "    .dataframe tbody tr th {\n",
       "        vertical-align: top;\n",
       "    }\n",
       "\n",
       "    .dataframe thead th {\n",
       "        text-align: right;\n",
       "    }\n",
       "</style>\n",
       "<table border=\"1\" class=\"dataframe\">\n",
       "  <thead>\n",
       "    <tr style=\"text-align: right;\">\n",
       "      <th></th>\n",
       "      <th>popularity</th>\n",
       "      <th>budget</th>\n",
       "      <th>revenue</th>\n",
       "      <th>runtime</th>\n",
       "      <th>vote_count</th>\n",
       "      <th>vote_average</th>\n",
       "      <th>release_year</th>\n",
       "    </tr>\n",
       "  </thead>\n",
       "  <tbody>\n",
       "    <tr>\n",
       "      <th>count</th>\n",
       "      <td>10771.000000</td>\n",
       "      <td>1.077100e+04</td>\n",
       "      <td>1.077100e+04</td>\n",
       "      <td>10771.000000</td>\n",
       "      <td>10771.000000</td>\n",
       "      <td>10771.000000</td>\n",
       "      <td>10771.000000</td>\n",
       "    </tr>\n",
       "    <tr>\n",
       "      <th>mean</th>\n",
       "      <td>0.650697</td>\n",
       "      <td>1.474970e+07</td>\n",
       "      <td>4.017345e+07</td>\n",
       "      <td>102.457432</td>\n",
       "      <td>219.133599</td>\n",
       "      <td>5.972194</td>\n",
       "      <td>2001.264971</td>\n",
       "    </tr>\n",
       "    <tr>\n",
       "      <th>std</th>\n",
       "      <td>1.003349</td>\n",
       "      <td>3.101946e+07</td>\n",
       "      <td>1.174587e+08</td>\n",
       "      <td>30.379827</td>\n",
       "      <td>577.849529</td>\n",
       "      <td>0.932867</td>\n",
       "      <td>12.825809</td>\n",
       "    </tr>\n",
       "    <tr>\n",
       "      <th>min</th>\n",
       "      <td>0.000188</td>\n",
       "      <td>0.000000e+00</td>\n",
       "      <td>0.000000e+00</td>\n",
       "      <td>2.000000</td>\n",
       "      <td>10.000000</td>\n",
       "      <td>1.500000</td>\n",
       "      <td>1960.000000</td>\n",
       "    </tr>\n",
       "    <tr>\n",
       "      <th>25%</th>\n",
       "      <td>0.210087</td>\n",
       "      <td>0.000000e+00</td>\n",
       "      <td>0.000000e+00</td>\n",
       "      <td>90.000000</td>\n",
       "      <td>17.000000</td>\n",
       "      <td>5.400000</td>\n",
       "      <td>1995.000000</td>\n",
       "    </tr>\n",
       "    <tr>\n",
       "      <th>50%</th>\n",
       "      <td>0.386180</td>\n",
       "      <td>0.000000e+00</td>\n",
       "      <td>0.000000e+00</td>\n",
       "      <td>99.000000</td>\n",
       "      <td>39.000000</td>\n",
       "      <td>6.000000</td>\n",
       "      <td>2006.000000</td>\n",
       "    </tr>\n",
       "    <tr>\n",
       "      <th>75%</th>\n",
       "      <td>0.718914</td>\n",
       "      <td>1.600000e+07</td>\n",
       "      <td>2.476490e+07</td>\n",
       "      <td>112.000000</td>\n",
       "      <td>147.000000</td>\n",
       "      <td>6.600000</td>\n",
       "      <td>2011.000000</td>\n",
       "    </tr>\n",
       "    <tr>\n",
       "      <th>max</th>\n",
       "      <td>32.985763</td>\n",
       "      <td>4.250000e+08</td>\n",
       "      <td>2.781506e+09</td>\n",
       "      <td>900.000000</td>\n",
       "      <td>9767.000000</td>\n",
       "      <td>9.200000</td>\n",
       "      <td>2015.000000</td>\n",
       "    </tr>\n",
       "  </tbody>\n",
       "</table>\n",
       "</div>"
      ],
      "text/plain": [
       "         popularity        budget       revenue       runtime    vote_count  \\\n",
       "count  10771.000000  1.077100e+04  1.077100e+04  10771.000000  10771.000000   \n",
       "mean       0.650697  1.474970e+07  4.017345e+07    102.457432    219.133599   \n",
       "std        1.003349  3.101946e+07  1.174587e+08     30.379827    577.849529   \n",
       "min        0.000188  0.000000e+00  0.000000e+00      2.000000     10.000000   \n",
       "25%        0.210087  0.000000e+00  0.000000e+00     90.000000     17.000000   \n",
       "50%        0.386180  0.000000e+00  0.000000e+00     99.000000     39.000000   \n",
       "75%        0.718914  1.600000e+07  2.476490e+07    112.000000    147.000000   \n",
       "max       32.985763  4.250000e+08  2.781506e+09    900.000000   9767.000000   \n",
       "\n",
       "       vote_average  release_year  \n",
       "count  10771.000000  10771.000000  \n",
       "mean       5.972194   2001.264971  \n",
       "std        0.932867     12.825809  \n",
       "min        1.500000   1960.000000  \n",
       "25%        5.400000   1995.000000  \n",
       "50%        6.000000   2006.000000  \n",
       "75%        6.600000   2011.000000  \n",
       "max        9.200000   2015.000000  "
      ]
     },
     "execution_count": 71,
     "metadata": {},
     "output_type": "execute_result"
    }
   ],
   "source": [
    "clean_df.describe()"
   ]
  },
  {
   "cell_type": "code",
   "execution_count": 72,
   "metadata": {
    "collapsed": false
   },
   "outputs": [
    {
     "data": {
      "text/plain": [
       "102.45743199331538"
      ]
     },
     "execution_count": 72,
     "metadata": {},
     "output_type": "execute_result"
    }
   ],
   "source": [
    "clean_df.runtime.mean()"
   ]
  },
  {
   "cell_type": "markdown",
   "metadata": {},
   "source": [
    "- The average run time for all the movies."
   ]
  },
  {
   "cell_type": "code",
   "execution_count": 73,
   "metadata": {
    "collapsed": false
   },
   "outputs": [
    {
     "data": {
      "text/plain": [
       "40173449.6216693"
      ]
     },
     "execution_count": 73,
     "metadata": {},
     "output_type": "execute_result"
    }
   ],
   "source": [
    "clean_df.revenue.mean()"
   ]
  },
  {
   "cell_type": "markdown",
   "metadata": {},
   "source": [
    "- The average revenue for all the movies."
   ]
  },
  {
   "cell_type": "code",
   "execution_count": 74,
   "metadata": {
    "collapsed": false
   },
   "outputs": [
    {
     "data": {
      "text/plain": [
       "14749701.335901959"
      ]
     },
     "execution_count": 74,
     "metadata": {},
     "output_type": "execute_result"
    }
   ],
   "source": [
    "clean_df.budget.mean()"
   ]
  },
  {
   "cell_type": "markdown",
   "metadata": {},
   "source": [
    "- The average budget for all the movies."
   ]
  },
  {
   "cell_type": "markdown",
   "metadata": {},
   "source": [
    "- split the values of the genres cloumn and take the first index as the main genre of the movie."
   ]
  },
  {
   "cell_type": "code",
   "execution_count": 75,
   "metadata": {
    "collapsed": false
   },
   "outputs": [
    {
     "data": {
      "text/html": [
       "<div>\n",
       "<style scoped>\n",
       "    .dataframe tbody tr th:only-of-type {\n",
       "        vertical-align: middle;\n",
       "    }\n",
       "\n",
       "    .dataframe tbody tr th {\n",
       "        vertical-align: top;\n",
       "    }\n",
       "\n",
       "    .dataframe thead th {\n",
       "        text-align: right;\n",
       "    }\n",
       "</style>\n",
       "<table border=\"1\" class=\"dataframe\">\n",
       "  <thead>\n",
       "    <tr style=\"text-align: right;\">\n",
       "      <th></th>\n",
       "      <th>id</th>\n",
       "      <th>imdb_id</th>\n",
       "      <th>popularity</th>\n",
       "      <th>budget</th>\n",
       "      <th>revenue</th>\n",
       "      <th>original_title</th>\n",
       "      <th>director</th>\n",
       "      <th>runtime</th>\n",
       "      <th>genres</th>\n",
       "      <th>release_date</th>\n",
       "      <th>vote_count</th>\n",
       "      <th>vote_average</th>\n",
       "      <th>release_year</th>\n",
       "    </tr>\n",
       "  </thead>\n",
       "  <tbody>\n",
       "    <tr>\n",
       "      <th>0</th>\n",
       "      <td>135397</td>\n",
       "      <td>tt0369610</td>\n",
       "      <td>32.985763</td>\n",
       "      <td>150000000</td>\n",
       "      <td>1513528810</td>\n",
       "      <td>Jurassic World</td>\n",
       "      <td>Colin Trevorrow</td>\n",
       "      <td>124</td>\n",
       "      <td>Action</td>\n",
       "      <td>2015-06-09</td>\n",
       "      <td>5562</td>\n",
       "      <td>6.5</td>\n",
       "      <td>2015</td>\n",
       "    </tr>\n",
       "    <tr>\n",
       "      <th>1</th>\n",
       "      <td>76341</td>\n",
       "      <td>tt1392190</td>\n",
       "      <td>28.419936</td>\n",
       "      <td>150000000</td>\n",
       "      <td>378436354</td>\n",
       "      <td>Mad Max: Fury Road</td>\n",
       "      <td>George Miller</td>\n",
       "      <td>120</td>\n",
       "      <td>Action</td>\n",
       "      <td>2015-05-13</td>\n",
       "      <td>6185</td>\n",
       "      <td>7.1</td>\n",
       "      <td>2015</td>\n",
       "    </tr>\n",
       "    <tr>\n",
       "      <th>2</th>\n",
       "      <td>262500</td>\n",
       "      <td>tt2908446</td>\n",
       "      <td>13.112507</td>\n",
       "      <td>110000000</td>\n",
       "      <td>295238201</td>\n",
       "      <td>Insurgent</td>\n",
       "      <td>Robert Schwentke</td>\n",
       "      <td>119</td>\n",
       "      <td>Adventure</td>\n",
       "      <td>2015-03-18</td>\n",
       "      <td>2480</td>\n",
       "      <td>6.3</td>\n",
       "      <td>2015</td>\n",
       "    </tr>\n",
       "    <tr>\n",
       "      <th>3</th>\n",
       "      <td>140607</td>\n",
       "      <td>tt2488496</td>\n",
       "      <td>11.173104</td>\n",
       "      <td>200000000</td>\n",
       "      <td>2068178225</td>\n",
       "      <td>Star Wars: The Force Awakens</td>\n",
       "      <td>J.J. Abrams</td>\n",
       "      <td>136</td>\n",
       "      <td>Action</td>\n",
       "      <td>2015-12-15</td>\n",
       "      <td>5292</td>\n",
       "      <td>7.5</td>\n",
       "      <td>2015</td>\n",
       "    </tr>\n",
       "    <tr>\n",
       "      <th>4</th>\n",
       "      <td>168259</td>\n",
       "      <td>tt2820852</td>\n",
       "      <td>9.335014</td>\n",
       "      <td>190000000</td>\n",
       "      <td>1506249360</td>\n",
       "      <td>Furious 7</td>\n",
       "      <td>James Wan</td>\n",
       "      <td>137</td>\n",
       "      <td>Action</td>\n",
       "      <td>2015-04-01</td>\n",
       "      <td>2947</td>\n",
       "      <td>7.3</td>\n",
       "      <td>2015</td>\n",
       "    </tr>\n",
       "  </tbody>\n",
       "</table>\n",
       "</div>"
      ],
      "text/plain": [
       "       id    imdb_id  popularity     budget     revenue  \\\n",
       "0  135397  tt0369610   32.985763  150000000  1513528810   \n",
       "1   76341  tt1392190   28.419936  150000000   378436354   \n",
       "2  262500  tt2908446   13.112507  110000000   295238201   \n",
       "3  140607  tt2488496   11.173104  200000000  2068178225   \n",
       "4  168259  tt2820852    9.335014  190000000  1506249360   \n",
       "\n",
       "                 original_title          director  runtime     genres  \\\n",
       "0                Jurassic World   Colin Trevorrow      124     Action   \n",
       "1            Mad Max: Fury Road     George Miller      120     Action   \n",
       "2                     Insurgent  Robert Schwentke      119  Adventure   \n",
       "3  Star Wars: The Force Awakens       J.J. Abrams      136     Action   \n",
       "4                     Furious 7         James Wan      137     Action   \n",
       "\n",
       "  release_date  vote_count  vote_average  release_year  \n",
       "0   2015-06-09        5562           6.5          2015  \n",
       "1   2015-05-13        6185           7.1          2015  \n",
       "2   2015-03-18        2480           6.3          2015  \n",
       "3   2015-12-15        5292           7.5          2015  \n",
       "4   2015-04-01        2947           7.3          2015  "
      ]
     },
     "execution_count": 75,
     "metadata": {},
     "output_type": "execute_result"
    }
   ],
   "source": [
    "clean_df[\"genres\"] = clean_df.genres.str.split('|').str[0]\n",
    "clean_df.head()"
   ]
  },
  {
   "cell_type": "code",
   "execution_count": 76,
   "metadata": {
    "collapsed": false
   },
   "outputs": [
    {
     "data": {
      "image/png": "[encoded data removed]",
      "text/plain": [
       "<matplotlib.figure.Figure at 0xc8821d0>"
      ]
     },
     "metadata": {},
     "output_type": "display_data"
    }
   ],
   "source": [
    "fav_geners = clean_df.groupby(\"genres\")[\"popularity\"].mean()\n",
    "plt.figure(figsize= (22,10),dpi = 150)\n",
    "plt.xlabel(\"Genres\" ,fontsize = 15)\n",
    "plt.ylabel(\"Popularity\",fontsize = 15)\n",
    "plt.title(\"Genres Popularity\",fontsize = 15)\n",
    "plt.plot(fav_geners) ;"
   ]
  },
  {
   "cell_type": "markdown",
   "metadata": {},
   "source": [
    "- The most popular movie genres is adventure in the first place comes Sci-Fi after it."
   ]
  },
  {
   "cell_type": "code",
   "execution_count": 77,
   "metadata": {
    "collapsed": false
   },
   "outputs": [
    {
     "data": {
      "image/png": "[encoded data removed]",
      "text/plain": [
       "<matplotlib.figure.Figure at 0x8a9eb00>"
      ]
     },
     "metadata": {},
     "output_type": "display_data"
    }
   ],
   "source": [
    "vote_geners = clean_df.groupby(\"genres\")[\"vote_average\"].mean()\n",
    "plt.xlabel(\"genres\",fontsize = 15)\n",
    "plt.ylabel(\"vote average\",fontsize = 15)\n",
    "plt.title(\"Average vote score for all data set genres\",fontsize = 15)\n",
    "vote_geners.plot.bar();"
   ]
  },
  {
   "cell_type": "markdown",
   "metadata": {},
   "source": [
    "- The most vote scores goes to documentary movies and music after it."
   ]
  },
  {
   "cell_type": "code",
   "execution_count": 78,
   "metadata": {
    "collapsed": false
   },
   "outputs": [
    {
     "data": {
      "image/png": "[encoded data removed]",
      "text/plain": [
       "<matplotlib.figure.Figure at 0x8b4d588>"
      ]
     },
     "metadata": {},
     "output_type": "display_data"
    }
   ],
   "source": [
    "budget_genres =clean_df.groupby(\"genres\")[\"budget\"].mean()\n",
    "plt.figure(figsize= (22,10),dpi = 150)\n",
    "plt.xlabel(\"Genres\" ,fontsize = 15)\n",
    "plt.ylabel(\"Budget\",fontsize = 15)\n",
    "plt.title(\"Genres got the most budget\",fontsize = 15)\n",
    "plt.plot(budget_genres) ;"
   ]
  },
  {
   "cell_type": "markdown",
   "metadata": {},
   "source": [
    "- The most budgets goes to adventure movies and after it comes Sci-Fi and Action movies."
   ]
  },
  {
   "cell_type": "code",
   "execution_count": 79,
   "metadata": {
    "collapsed": false
   },
   "outputs": [
    {
     "data": {
      "image/png": "[encoded data removed]",
      "text/plain": [
       "<matplotlib.figure.Figure at 0x8b76f28>"
      ]
     },
     "metadata": {},
     "output_type": "display_data"
    }
   ],
   "source": [
    "movies_count = clean_df.release_year.value_counts().head(5)\n",
    "plt.xlabel(\"Year\" ,fontsize = 15)\n",
    "plt.ylabel(\"Number of movies\",fontsize = 15)\n",
    "plt.title(\"Number of movies each year\",fontsize = 15)\n",
    "movies_count.plot.bar();"
   ]
  },
  {
   "cell_type": "markdown",
   "metadata": {},
   "source": [
    "- The most movies that released was in 2014."
   ]
  },
  {
   "cell_type": "code",
   "execution_count": 80,
   "metadata": {
    "collapsed": false
   },
   "outputs": [
    {
     "data": {
      "text/plain": [
       "count    10771.000000\n",
       "mean       219.133599\n",
       "std        577.849529\n",
       "min         10.000000\n",
       "25%         17.000000\n",
       "50%         39.000000\n",
       "75%        147.000000\n",
       "max       9767.000000\n",
       "Name: vote_count, dtype: float64"
      ]
     },
     "execution_count": 80,
     "metadata": {},
     "output_type": "execute_result"
    }
   ],
   "source": [
    "clean_df.vote_count.describe()"
   ]
  },
  {
   "cell_type": "code",
   "execution_count": 81,
   "metadata": {
    "collapsed": false
   },
   "outputs": [
    {
     "data": {
      "image/png": "[encoded data removed]",
      "text/plain": [
       "<matplotlib.figure.Figure at 0x8be78d0>"
      ]
     },
     "metadata": {},
     "output_type": "display_data"
    }
   ],
   "source": [
    "vote_counts_all = clean_df[\"vote_count\"]\n",
    "plt.figure(figsize= (30,15),dpi = 150)\n",
    "plt.xlabel(\"vote_count\" ,fontsize = 20)\n",
    "plt.title(\"Vote Counts Distribution for entire dataset\",fontsize = 25)\n",
    "sns.boxplot(vote_counts_all) ;"
   ]
  },
  {
   "cell_type": "markdown",
   "metadata": {},
   "source": [
    "- The vote counts distribution for the entire data set appears that the minimum counts 10 votes and the maximum 9767 Votes.\n",
    "\n",
    "> when Q1 of votes is 17\n",
    "\n",
    "> when Q2(median) of votes is 39.\n",
    "\n",
    "> when Q3 of votes is 147.\n",
    "\n",
    "- IQR range from 17 vote to 147\n",
    "\n",
    "- also appears huge amount of outliers in this distribution."
   ]
  },
  {
   "cell_type": "markdown",
   "metadata": {},
   "source": [
    "<a id='conclusions'></a>\n",
    "## Conclusions"
   ]
  },
  {
   "cell_type": "markdown",
   "metadata": {
    "collapsed": true
   },
   "source": [
    "### List of directors have movies in the top 20 rated movies.\n",
    "\n",
    "- Pete Docter\n",
    "- Lenny Abrahamson\n",
    "- Christopher Nolan \n",
    "- Morten Tyldum\n",
    "- Damien Chazelle\n",
    "- David Fincher\n",
    "- Frank Darabont \n",
    "- Quentin Tarantino\n",
    "- Robert Zemeckis\n",
    "- Francis Ford Coppola \n",
    "- Irvin Kershner\n",
    "- Bryan Singer\n",
    "- Tony Kaye\n",
    "- MiloÅ¡ Forman\n",
    "- Martin Scorsese\n",
    "- Alfred Hitchcock\n",
    "- Steven Spielberg\n",
    "\n",
    "when Christopher Nolan, Frank Darabont and Francis Ford Coppola got 2 films in top 20 rated movies."
   ]
  },
  {
   "cell_type": "markdown",
   "metadata": {},
   "source": [
    "- The average budget for top rated movie is 43.6 million and 2.35 h run time, but in general data set results of about 14.7 Million and 1.7 h run time.\n",
    "- It is not necessary that the highest rated movie got the highest profit.\n",
    "- The most perfered Genre in the top rated movies was Drama but in general the data set study result of adventure genre becomes first and Sci-Fi after.\n",
    "- There are a decline in the movies that realesed in 2015 after it was great at 2014 with 3 top rated movies\n",
    "- There are a huge amount of outliers values in vote counts and dropping them will heavily affect the data set."
   ]
  },
  {
   "cell_type": "markdown",
   "metadata": {},
   "source": [
    "## The analysis results is limited  because the data was not sufficient  enough. There are rows with NaN values and there are many rows with 0 values. That leaded to drop many lines that can have an impact on the results."
   ]
  }
 ],
 "metadata": {
  "anaconda-cloud": {},
  "kernelspec": {
   "display_name": "Python [default]",
   "language": "python",
   "name": "python3"
  },
  "language_info": {
   "codemirror_mode": {
    "name": "ipython",
    "version": 3
   },
   "file_extension": ".py",
   "mimetype": "text/x-python",
   "name": "python",
   "nbconvert_exporter": "python",
   "pygments_lexer": "ipython3",
   "version": "3.5.6"
  }
 },
 "nbformat": 4,
 "nbformat_minor": 2
}
